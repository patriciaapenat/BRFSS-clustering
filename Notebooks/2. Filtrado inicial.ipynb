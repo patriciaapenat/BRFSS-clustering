{
 "cells": [
  {
   "cell_type": "markdown",
   "id": "eb2dd9c5-4a01-4324-9652-15e8795414c3",
   "metadata": {},
   "source": [
    "<div style=\"position: absolute; top: 0; left: 0; font-family: 'Garamond'; font-size: 14px;\">\n",
    "    <a href=\"https://github.com/patriciaapenat\" style=\"text-decoration: none; color: inherit;\">Patricia Peña Torres</a>\n",
    "</div>\n",
    "\n",
    "<div align=\"center\" style=\"font-family: 'Garamond'; font-size: 48px;\">\n",
    "    <strong>Proyecto final, BRFSS-clustering</strong>\n",
    "</div>\n",
    "\n",
    "<div align=\"center\" style=\"font-family: 'Garamond'; font-size: 36px;\">\n",
    "    <strong>2. Filtrado inicial</strong>\n",
    "</div>"
   ]
  },
  {
   "cell_type": "markdown",
   "id": "9996665d-371b-49eb-aed3-c9bdc041a87a",
   "metadata": {},
   "source": [
    "__________________"
   ]
  },
  {
   "cell_type": "markdown",
   "id": "ae79c08c-36ef-4bf1-9466-3c2fe33aee97",
   "metadata": {},
   "source": [
    "<div style=\"font-family: 'Garamond'; font-size: 14px;\">\n",
    "    <normal>Dado que trabajamos con una base de datos extensa, es crucial examinar detenidamente la documentación. En este caso, me basé en las fuentes oficiales de la BBDD para explorar los datos. Comencé revisando el cuestionario (<a href=\"https://www.cdc.gov/brfss/questionnaires/pdf-ques/2022-BRFSS-Questionnaire-508.pdf\" target=\"_blank\">disponible aquí</a>) pero hay mayor concordancia con el codebook (<a href=\"https://www.cdc.gov/brfss/annual_data/2022/zip/codebook22_llcp-v2-508.zip\" target=\"_blank\">disponible aquí</a>), donde se encuentran los códigos asociados a las preguntas y respuestas. Esta revisión es esencial para comprender las preguntas formuladas y facilita la eliminación de secciones no pertinentes.\n",
    "    En el presente notebook, llevé a cabo una revisión del documento mencionado y se realizó un primer filtrado con la finalidad de reducir el dataset con una limpieza rápida eliminando encuestas que no se habían completado o columnas que no utilizaremos.</normal>\n",
    "</div>"
   ]
  },
  {
   "cell_type": "markdown",
   "id": "4950083c-0b8c-4835-9413-6fa62a1985ea",
   "metadata": {},
   "source": [
    "<div style=\"font-family: 'Garamond'; font-size: 24px;\">\n",
    "    <strong>Importación de paquetes</strong>\n",
    "</div>"
   ]
  },
  {
   "cell_type": "code",
   "execution_count": 1,
   "id": "5b597558-4d8e-4ba1-9bfe-71a7482505f6",
   "metadata": {},
   "outputs": [],
   "source": [
    "import pandas as pd\n",
    "import findspark\n",
    "findspark.init()\n",
    "import pyspark\n",
    "import random\n",
    "import os.path\n",
    "from pyspark import SparkConf, SparkContext\n",
    "from pyspark.sql import SparkSession\n",
    "from pyspark.sql.functions import col\n",
    "import os\n",
    "from pyspark.sql import DataFrame"
   ]
  },
  {
   "cell_type": "markdown",
   "id": "339f5ac0-5401-4237-903b-5763e0ee97c6",
   "metadata": {},
   "source": [
    "<div style=\"font-family: 'Garamond'; font-size: 24px;\">\n",
    "    <strong>Configuración de Spark</strong>\n",
    "</div>"
   ]
  },
  {
   "cell_type": "code",
   "execution_count": 2,
   "id": "67c1edd3-f886-4c44-81bf-d6052444175c",
   "metadata": {},
   "outputs": [],
   "source": [
    "# Si hay un SparkContext existente, debemos cerrarlo antes de crear uno nuevo\n",
    "if 'sc' in locals() and sc:\n",
    "    sc.stop()  # Detener el SparkContext anterior si existe\n",
    "\n",
    "# Configuración de Spark\n",
    "conf = (\n",
    "    SparkConf()\n",
    "    .setAppName(\"Proyecto_PatriciaA_Peña\")  # Nombre de la aplicación en Spark\n",
    "    .setMaster(\"local[2]\")  # Modo local con un hilo para ejecución\n",
    "    .set(\"spark.driver.host\", \"127.0.0.1\")  # Dirección del host del driver\n",
    "    .set(\"spark.executor.heartbeatInterval\", \"3600s\")  # Intervalo de latido del executor\n",
    "    .set(\"spark.network.timeout\", \"7200s\")  # Tiempo de espera de la red\n",
    "    .set(\"spark.executor.memory\", \"14g\")  # Memoria asignada para cada executor\n",
    "    .set(\"spark.driver.memory\", \"14g\")  # Memoria asignada para el driver\n",
    ")\n",
    "\n",
    "# Crear un nuevo SparkContext con la configuración especificada\n",
    "sc = SparkContext(conf=conf)\n",
    "\n",
    "# Configuración de SparkSession (interfaz de alto nivel para trabajar con datos estructurados en Spark)\n",
    "spark = (\n",
    "    SparkSession.builder\n",
    "    .appName(\"Proyecto_PatriciaA_Peña\")  # Nombre de la aplicación en Spark\n",
    "    .config(\"spark.sql.repl.eagerEval.enabled\", True)  # Habilitar la evaluación perezosa en Spark SQL REPL\n",
    "    .config(\"spark.sql.repl.eagerEval.maxNumRows\", 1000)  # Número máximo de filas a mostrar en la evaluación perezosa\n",
    "    .getOrCreate()  # Obtener la sesión Spark existente o crear una nueva si no existe\n",
    ") "
   ]
  },
  {
   "cell_type": "markdown",
   "id": "61069114-4bba-425b-b2ff-5e109d12fbe3",
   "metadata": {},
   "source": [
    "<div style=\"font-family: 'Garamond'; font-size: 16px;\">\n",
    "    <strong>Lectura del archivo</strong>\n",
    "</div>"
   ]
  },
  {
   "cell_type": "code",
   "execution_count": 3,
   "id": "ec195683-bd8e-4a86-ad35-2f831c3edd5f",
   "metadata": {},
   "outputs": [],
   "source": [
    "# Ruta del archivo CSV\n",
    "origin_path = r\"C:\\Users\\patri\\OneDrive - UAB\\Documentos\\GitHub\\BRFSS-clustering\\raw_data\\BRFSS_2022.csv\"\n",
    "\n",
    "# Lee el archivo CSV y crea un DataFrame (especificando el separador \"|\")\n",
    "df = spark.read.csv(origin_path, header=True, inferSchema=True)"
   ]
  },
  {
   "cell_type": "code",
   "execution_count": 4,
   "id": "88bfaf5e-5cee-4c83-8b5f-35b94f492a2e",
   "metadata": {},
   "outputs": [],
   "source": [
    "# Abre el archivo en modo escritura y guarda los nombres de las columnas sin saltos de línea\n",
    "with open(r\"C:\\Users\\patri\\Downloads\\columnas_dataframe.txt\", \"w\") as archivo:\n",
    "    archivo.write(\", \".join(map(str, df.columns)))"
   ]
  },
  {
   "cell_type": "code",
   "execution_count": 5,
   "id": "1b197265-07ec-4bbd-bf83-ecf43f1beb48",
   "metadata": {},
   "outputs": [
    {
     "name": "stdout",
     "output_type": "stream",
     "text": [
      "Dimensiones del DataFrame: Filas=445132, Columnas=328\n"
     ]
    }
   ],
   "source": [
    "# Imprimir las dimensiones del DataFrame\n",
    "print(f\"Dimensiones del DataFrame: Filas={df.count()}, Columnas={len(df.columns)}\")"
   ]
  },
  {
   "cell_type": "markdown",
   "id": "532f2589-af1c-4e17-9f1a-ef1ddd9d5512",
   "metadata": {},
   "source": [
    "<div style=\"font-family: 'Garamond'; font-size: 14px;\">\n",
    "    <normal>\n",
    "Trabajamos con un dataset muy extenso así que por ello lo reduciremos en este notebook.</normal>\n",
    "</div>"
   ]
  },
  {
   "cell_type": "markdown",
   "id": "05b25dea-f38c-48ff-81c8-db08906b32f3",
   "metadata": {},
   "source": [
    "<div style=\"font-family: 'Garamond'; font-size: 20px;\">\n",
    "    <strong>Limpieza</strong>\n",
    "</div>"
   ]
  },
  {
   "cell_type": "markdown",
   "id": "5a856e6c-9b1a-415b-9655-25afdce72313",
   "metadata": {},
   "source": [
    "<div style=\"font-family: 'Garamond'; font-size: 14px;\">\n",
    "    <normal>\n",
    "Eliminamos las encuestas incompletas, aquellas en las que no se hablaba con una adulto o donde se referirá que no es buen momento para hablar</normal>\n",
    "</div>"
   ]
  },
  {
   "cell_type": "code",
   "execution_count": 8,
   "id": "52f1361c-de13-4fb8-95d2-e6fbf1ecca02",
   "metadata": {},
   "outputs": [],
   "source": [
    "# Filtrar las filas basándose en si era un buen momento para hablar y si se hablaba con un mayor de edad\n",
    "df = df.filter((col('SAFETIME') != 1) | (col('CADULT1') != 2) | (col('DISPCODE') == 1200) | (col('LADULT1') == 2)) "
   ]
  },
  {
   "cell_type": "code",
   "execution_count": 9,
   "id": "900eb340-0c09-4332-a72d-69d518dad9bf",
   "metadata": {},
   "outputs": [
    {
     "name": "stdout",
     "output_type": "stream",
     "text": [
      "Dimensiones del DataFrame: Filas=363130, Columnas=328\n"
     ]
    }
   ],
   "source": [
    "# Imprimir las dimensiones del DataFrame\n",
    "print(f\"Dimensiones del DataFrame: Filas={df.count()}, Columnas={len(df.columns)}\")"
   ]
  },
  {
   "cell_type": "markdown",
   "id": "d8dbc807-2be5-4197-912e-9e3fcafec13d",
   "metadata": {},
   "source": [
    "<div style=\"font-family: 'Garamond'; font-size: 14px;\">\n",
    "    <normal>\n",
    "Y ahora eliminamos varias consultas, entre ellas algunas identificativas, calculadas, planificación familiar o en general que no utilizaremos</normal>\n",
    "</div>"
   ]
  },
  {
   "cell_type": "code",
   "execution_count": 10,
   "id": "8b2363e3-3dc4-4aeb-9612-ae35f66ad3ab",
   "metadata": {},
   "outputs": [],
   "source": [
    "# Columnas a eliminar\n",
    "columns_to_drop = [\n",
    "    \"IDATE\", \"IMONTH\", \"IDAY\", \"IYEAR\", \"DISPCODE\", \"SEQNO\", \"_PSU\", \"CTELENM1\", \"PVTRESD1\", \"COLGHOUS\", \"STATERE1\", \n",
    "    \"CELPHON1\", \"LADULT1\", \"COLGSEX1\", \"LANDSEX1\", \"RESPSLCT\", \"SAFETIME\", \"CTELNUM1\", \"CELLFON5\", \"CADULT1\", \"CELLSEX1\", \n",
    "    \"PVTRESD3\", \"CCLGHOUS\", \"CSTATE1\", \"LANDLINE\", \"HHADULT\", \"SEXVAR\", \"NUMHHOL4\", \"NUMPHON4\", \"CPDEMO1C\", \"WEIGHT2\", \n",
    "    \"HEIGHT3\",\"CADULT1\",\"COVIDFS1\",\"COVIDSE1\", 'QSTVER', 'QSTLANG', '_METSTAT', '_URBSTAT', 'MSCODE', '_STSTR', \n",
    "    '_STRWT', '_RAWRAKE', '_WT2RAKE', '_IMPRACE', '_CHISPNC', '_CRACE2', '_CPRACE2', 'CAGEG', '_CLLCPWT', '_DUALUSE', '_DUALCOR', \n",
    "    '_LLCPWT2', '_LLCPWT', '_RFHLTH','_PHYS14D', '_MENT14D', '_HLTHPLN', '_HCVU652', '_TOTINDA', '_EXTETH3', '_ALTETH3', '_DENVST3', \n",
    "    '_MICHD', '_LTASTH1','_CASTHM1', '_ASTHMS1', '_DRDXAR2', '_PRACE2', '_MRACE2', '_HISPANC', '_RACE1', '_RACEG22', '_RACEGR4', \n",
    "    '_RACEPR1', '_AGEG5YR', '_AGE65YR', '_AGE_G', 'HTIN4', 'HTM4', 'WTKG3', '_BMI5CAT', '_RFBMI5', '_CHLDCNT', '_EDUCAG', '_INCOMG1',\n",
    "    '_RFMAM22', '_MAM5023', '_HADCOLN', '_CLNSCP1', '_HADSIGM', '_SGMSCP1', '_SGMS101', '_RFBLDS5', '_STOLDN1', '_VIRCOL1',\n",
    "    '_SBONTI1', '_CRCREC2', '_SMOKER3', '_RFSMOK3', '_CURECI2', '_YRSSMOK', '_PACKDAY', '_PACKYRS', '_YRSQUIT', '_SMOKGRP',\n",
    "    '_LCSREC', 'DRNKANY6', 'DROCDY4_', '_RFBING6', '_DRNKWK2', '_RFDRHV8', '_FLSHOT7', '_PNEUMO3', '_AIDTST4','TOLDCFS','HAVECFS',\n",
    "    'WORKCFS','FLSHTMY3','HIVTSTD3',  'RCSGEND1', 'RCSXBRTH', 'RCSRLTN2', 'CASTHDX2', 'CASTHNO2', 'BIRTHSEX', 'COVIDVA1', 'COVACGET', 'COVIDNU1'\n",
    "    'COVIDINT','HADSEX','PFPPRVN4', ' TYPCNTR9', 'BRTHCNT4', 'WHEREGET', 'NOBCUSE8', 'BCPREFER'\n",
    "]\n",
    "\n",
    "# Eliminar\n",
    "df_sin_columnas = df.drop(*columns_to_drop)"
   ]
  },
  {
   "cell_type": "code",
   "execution_count": 11,
   "id": "ae16d426-4533-4dd6-acbc-03e5cbd3ac9b",
   "metadata": {},
   "outputs": [
    {
     "name": "stdout",
     "output_type": "stream",
     "text": [
      "Dimensiones del DataFrame: Filas=363130, Columnas=195\n"
     ]
    }
   ],
   "source": [
    "# Imprimir las dimensiones del DataFrame\n",
    "print(f\"Dimensiones del DataFrame: Filas={df_sin_columnas.count()}, Columnas={len(df_sin_columnas.columns)}\")"
   ]
  },
  {
   "cell_type": "markdown",
   "id": "dcfd4fb5-3e24-445a-96df-10d7a8d9eebc",
   "metadata": {},
   "source": [
    "<div style=\"font-family: 'Garamond'; font-size: 16px;\">\n",
    "    <strong>Exportación</strong>\n",
    "</div>"
   ]
  },
  {
   "cell_type": "markdown",
   "id": "f4d3f1c6-3e3c-480f-990f-a55e41d8ff92",
   "metadata": {},
   "source": [
    "<div style=\"font-family: 'Garamond'; font-size: 14px;\">\n",
    "    <normal>\n",
    "Y por último exportamos</normal>\n",
    "</div>"
   ]
  },
  {
   "cell_type": "code",
   "execution_count": 13,
   "id": "54079f0d-6058-4bda-9ca8-18e40a9c1123",
   "metadata": {},
   "outputs": [],
   "source": [
    "# Guardar el DataFrame como CSV\n",
    "df_sin_columnas.write.csv(\"C:\\\\Users\\\\patri\\\\OneDrive - UAB\\\\Documentos\\\\GitHub\\\\BRFSS-clustering\\\\datos\\\\BRFSS_Cleaner_2022.csv\", header=True, mode=\"overwrite\")"
   ]
  }
 ],
 "metadata": {
  "kernelspec": {
   "display_name": "Python 3 (ipykernel)",
   "language": "python",
   "name": "python3"
  },
  "language_info": {
   "codemirror_mode": {
    "name": "ipython",
    "version": 3
   },
   "file_extension": ".py",
   "mimetype": "text/x-python",
   "name": "python",
   "nbconvert_exporter": "python",
   "pygments_lexer": "ipython3",
   "version": "3.11.4"
  }
 },
 "nbformat": 4,
 "nbformat_minor": 5
}
