{
 "cells": [
  {
   "cell_type": "markdown",
   "id": "eb2dd9c5-4a01-4324-9652-15e8795414c3",
   "metadata": {},
   "source": [
    "<div style=\"position: absolute; top: 0; left: 0; font-family: 'Garamond'; font-size: 16px;\">\n",
    "    <a href=\"https://github.com/patriciaapenat\" style=\"text-decoration: none; color: inherit;\">Patricia Peña Torres</a>\n",
    "</div>\n",
    "\n",
    "<div align=\"center\" style=\"font-family: 'Garamond'; font-size: 48px;\">\n",
    "    <strong>Proyecto final, BRFSS-clustering</strong>\n",
    "</div>\n",
    "\n",
    "<div align=\"center\" style=\"font-family: 'Garamond'; font-size: 36px;\">\n",
    "    <strong>0.2. Análisis exploratorio</strong>\n",
    "</div>"
   ]
  },
  {
   "cell_type": "markdown",
   "id": "9996665d-371b-49eb-aed3-c9bdc041a87a",
   "metadata": {},
   "source": [
    "__________________"
   ]
  },
  {
   "cell_type": "markdown",
   "id": "ae79c08c-36ef-4bf1-9466-3c2fe33aee97",
   "metadata": {},
   "source": [
    "<div style=\"font-family: 'Garamond'; font-size: 14px;\">\n",
    "\n",
    "En este notebook se llava a cabo lo relativo al análisis exploratorio, por la naturaleza de los datos este EDA se ha centrado principalmente en variables demográficas\n",
    "    \n",
    "</div>"
   ]
  },
  {
   "cell_type": "markdown",
   "id": "339f5ac0-5401-4237-903b-5763e0ee97c6",
   "metadata": {},
   "source": [
    "<div style=\"font-family: 'Garamond'; font-size: 16px;\">\n",
    "    <strong>Configuración del entorno de trabajo</strong>\n",
    "</div>"
   ]
  },
  {
   "cell_type": "code",
   "execution_count": 1,
   "id": "5b597558-4d8e-4ba1-9bfe-71a7482505f6",
   "metadata": {},
   "outputs": [],
   "source": [
    "import pandas as pd\n",
    "import findspark\n",
    "findspark.init()\n",
    "import pyspark\n",
    "import random\n",
    "import os.path\n",
    "import seaborn as sns\n",
    "from pyspark import SparkConf, SparkContext\n",
    "from pyspark.sql import SparkSession\n",
    "from pyspark.sql.functions import col\n",
    "import os\n",
    "from pyspark.sql import DataFrame\n",
    "import pickle\n",
    "import matplotlib.pyplot as plt\n",
    "from pyspark.sql.functions import col\n",
    "import pyspark.sql.functions as F\n",
    "from pyspark.ml.feature import Imputer\n",
    "from functools import reduce\n",
    "from pyspark.sql import DataFrame\n",
    "from pyspark.ml.feature import VectorAssembler\n",
    "from pyspark.sql import SparkSession\n",
    "import tensorflow as tf\n",
    "import numpy as np\n",
    "import warnings\n",
    "from pyspark.ml import Pipeline\n",
    "\n",
    "# Ignorar advertencias deprecated\n",
    "warnings.filterwarnings(\"ignore\", category=FutureWarning)"
   ]
  },
  {
   "cell_type": "code",
   "execution_count": 2,
   "id": "c17f6a3e-1bbc-4f71-b4be-5272a040457c",
   "metadata": {},
   "outputs": [],
   "source": [
    "# configurar gráficos\n",
    "sns.set(style=\"whitegrid\", context=\"notebook\", palette=\"mako\")"
   ]
  },
  {
   "cell_type": "markdown",
   "id": "1d9f2995-edfa-4aeb-b366-b25220be6cbd",
   "metadata": {},
   "source": [
    "<div style=\"font-family: 'Garamond'; font-size: 14px;\">\n",
    "    <strong>Configuración de Spark</strong>\n",
    "</div>"
   ]
  },
  {
   "cell_type": "code",
   "execution_count": 3,
   "id": "67c1edd3-f886-4c44-81bf-d6052444175c",
   "metadata": {},
   "outputs": [],
   "source": [
    "# Si hay un SparkContext existente, debemos cerrarlo antes de crear uno nuevo\n",
    "if 'sc' in locals() and sc:\n",
    "    sc.stop()  # Detener el SparkContext anterior si existe\n",
    "\n",
    "# Configuración de Spark\n",
    "conf = (\n",
    "    SparkConf()\n",
    "    .setAppName(\"Proyecto_PatriciaA_Peña\")  # Nombre de la aplicación en Spark\n",
    "    .setMaster(\"local[1]\")  # Modo local con un hilo para ejecución\n",
    "    .set(\"spark.driver.host\", \"127.0.0.1\")  # Dirección del host del driver\n",
    "    .set(\"spark.executor.heartbeatInterval\", \"3600s\")  # Intervalo de latido del executor\n",
    "    .set(\"spark.network.timeout\", \"7200s\")  # Tiempo de espera de la red\n",
    "    .set(\"spark.executor.memory\", \"14g\")  # Memoria asignada para cada executor\n",
    "    .set(\"spark.driver.memory\", \"14g\")  # Memoria asignada para el driver\n",
    ")\n",
    "\n",
    "# Crear un nuevo SparkContext con la configuración especificada\n",
    "sc = SparkContext(conf=conf)\n",
    "\n",
    "# Configuración de SparkSession (interfaz de alto nivel para trabajar con datos estructurados en Spark)\n",
    "spark = (\n",
    "    SparkSession.builder\n",
    "    .appName(\"Proyecto_PatriciaA_Peña\")  # Nombre de la aplicación en Spark\n",
    "    .config(\"spark.sql.repl.eagerEval.enabled\", True)  # Habilitar la evaluación perezosa en Spark SQL REPL\n",
    "    .config(\"spark.sql.repl.eagerEval.maxNumRows\", 1000)  # Número máximo de filas a mostrar en la evaluación perezosa\n",
    "    .getOrCreate()  # Obtener la sesión Spark existente o crear una nueva si no existe\n",
    ") "
   ]
  },
  {
   "cell_type": "markdown",
   "id": "61069114-4bba-425b-b2ff-5e109d12fbe3",
   "metadata": {},
   "source": [
    "<div style=\"font-family: 'Garamond'; font-size: 14px;\">\n",
    "    <strong>Lectura del archivo</strong>\n",
    "</div>"
   ]
  },
  {
   "cell_type": "code",
   "execution_count": 4,
   "id": "a87dc7af-efec-4874-a40a-b6d60a0fb936",
   "metadata": {},
   "outputs": [],
   "source": [
    "df = spark.read.format(\"csv\").option(\"header\", \"true\").load(r\"C:\\\\Users\\\\patri\\\\OneDrive - UAB\\\\Documentos\\\\GitHub\\\\BRFSS-clustering\\\\datos\\\\BRFSS_imputated_2022.csv\")"
   ]
  },
  {
   "cell_type": "code",
   "execution_count": 5,
   "id": "8d7a900d-2deb-4c3f-b090-0a800fe1fca8",
   "metadata": {},
   "outputs": [],
   "source": [
    "# Convertir todas las columnas a tipo numérico\n",
    "for column_name in df.columns:\n",
    "    df = df.withColumn(column_name, col(column_name).cast(\"double\"))"
   ]
  },
  {
   "cell_type": "code",
   "execution_count": 6,
   "id": "dbd325f6-2741-4d3b-9e09-fb0aea9578da",
   "metadata": {},
   "outputs": [],
   "source": [
    "# Suponiendo que tienes un DataFrame de Spark llamado df con las características numéricas\n",
    "columnas_features = [col for col in df.columns if col != \"etiqueta\"]\n",
    "ensamblador = VectorAssembler(inputCols=columnas_features, outputCol=\"features\")\n",
    "df_con_features = ensamblador.transform(df).select(\"features\")"
   ]
  },
  {
   "cell_type": "code",
   "execution_count": 7,
   "id": "6a75e168-9eaf-48d1-aea2-d68d7d22b8d0",
   "metadata": {},
   "outputs": [],
   "source": [
    "# Convertir el DataFrame de Spark a un array NumPy\n",
    "features_array = np.array(df_con_features.rdd.map(lambda x: x.features.toArray()).collect())"
   ]
  },
  {
   "cell_type": "code",
   "execution_count": 8,
   "id": "86ad851d-bc73-47b6-8751-312ac4c180a2",
   "metadata": {},
   "outputs": [],
   "source": [
    "# Definir el autoencoder utilizando TensorFlow\n",
    "input_dim = len(columnas_features)\n",
    "encoding_dim = 4  # Dimensión reducida deseada"
   ]
  },
  {
   "cell_type": "code",
   "execution_count": 9,
   "id": "d1609a61-4948-428b-b511-56d0e2b18423",
   "metadata": {},
   "outputs": [],
   "source": [
    "# Definir la arquitectura del autoencoder\n",
    "input_layer = tf.keras.layers.Input(shape=(input_dim,))\n",
    "encoder = tf.keras.layers.Dense(encoding_dim, activation='relu', kernel_regularizer=tf.keras.regularizers.l2(l=0.01))(input_layer)\n",
    "decoder = tf.keras.layers.Dense(input_dim, activation='relu')(encoder)"
   ]
  },
  {
   "cell_type": "code",
   "execution_count": 10,
   "id": "df863df2-9226-4dc8-8bec-b186f2eaa936",
   "metadata": {},
   "outputs": [],
   "source": [
    "# Crear el modelo del autoencoder\n",
    "autoencoder = tf.keras.models.Model(inputs=input_layer, outputs=decoder)"
   ]
  },
  {
   "cell_type": "code",
   "execution_count": 11,
   "id": "784100b6-a802-41d8-bfe2-457e7e094bab",
   "metadata": {},
   "outputs": [],
   "source": [
    "initial_learning_rate = 0.01\n",
    "lr_schedule = tf.keras.optimizers.schedules.ExponentialDecay(\n",
    "    initial_learning_rate,\n",
    "    decay_steps=1000,\n",
    "    decay_rate=0.9,\n",
    "    staircase=True)\n",
    "\n",
    "optimizer = tf.keras.optimizers.Adam(learning_rate=lr_schedule)\n",
    "autoencoder.compile(optimizer=optimizer, loss='mean_squared_error')"
   ]
  },
  {
   "cell_type": "code",
   "execution_count": 12,
   "id": "9febf16c-a500-4954-ad17-7acc4755e45a",
   "metadata": {},
   "outputs": [
    {
     "name": "stdout",
     "output_type": "stream",
     "text": [
      "Epoch 1/50\n",
      "11348/11348 [==============================] - 34s 3ms/step - loss: 198710352.0000\n",
      "Epoch 2/50\n",
      "11348/11348 [==============================] - 37s 3ms/step - loss: 196787824.0000\n",
      "Epoch 3/50\n",
      "11348/11348 [==============================] - 34s 3ms/step - loss: 196787136.0000\n",
      "Epoch 4/50\n",
      "11348/11348 [==============================] - 33s 3ms/step - loss: 196787488.0000\n",
      "Epoch 5/50\n",
      "11348/11348 [==============================] - 35s 3ms/step - loss: 196787392.0000\n",
      "Epoch 6/50\n",
      "11348/11348 [==============================] - 35s 3ms/step - loss: 196786960.0000\n",
      "Epoch 7/50\n",
      "11348/11348 [==============================] - 33s 3ms/step - loss: 196787248.0000\n",
      "Epoch 8/50\n",
      "11348/11348 [==============================] - 33s 3ms/step - loss: 196787456.0000\n",
      "Epoch 9/50\n",
      "11348/11348 [==============================] - 37s 3ms/step - loss: 196787344.0000\n",
      "Epoch 10/50\n",
      "11348/11348 [==============================] - 33s 3ms/step - loss: 196787088.0000\n",
      "Epoch 11/50\n",
      "11348/11348 [==============================] - 33s 3ms/step - loss: 196787952.0000\n",
      "Epoch 12/50\n",
      "11348/11348 [==============================] - 35s 3ms/step - loss: 196787248.0000\n",
      "Epoch 13/50\n",
      "11348/11348 [==============================] - 39s 3ms/step - loss: 196786912.0000\n",
      "Epoch 14/50\n",
      "11348/11348 [==============================] - 33s 3ms/step - loss: 196787088.0000\n",
      "Epoch 15/50\n",
      "11348/11348 [==============================] - 33s 3ms/step - loss: 196787376.0000\n",
      "Epoch 16/50\n",
      "11348/11348 [==============================] - 38s 3ms/step - loss: 196786992.0000\n",
      "Epoch 17/50\n",
      "11348/11348 [==============================] - 35s 3ms/step - loss: 196786992.0000\n",
      "Epoch 18/50\n",
      "11348/11348 [==============================] - 32s 3ms/step - loss: 196787696.0000\n",
      "Epoch 19/50\n",
      "11348/11348 [==============================] - 34s 3ms/step - loss: 196787712.0000\n",
      "Epoch 20/50\n",
      "11348/11348 [==============================] - 33s 3ms/step - loss: 196787248.0000\n",
      "Epoch 21/50\n",
      "11348/11348 [==============================] - 31s 3ms/step - loss: 196787120.0000\n",
      "Epoch 22/50\n",
      "11348/11348 [==============================] - 32s 3ms/step - loss: 196787248.0000\n",
      "Epoch 23/50\n",
      "11348/11348 [==============================] - 35s 3ms/step - loss: 196787200.0000\n",
      "Epoch 24/50\n",
      "11348/11348 [==============================] - 32s 3ms/step - loss: 196787744.0000\n",
      "Epoch 25/50\n",
      "11348/11348 [==============================] - 32s 3ms/step - loss: 196787344.0000\n",
      "Epoch 26/50\n",
      "11348/11348 [==============================] - 32s 3ms/step - loss: 196787136.0000\n",
      "Epoch 27/50\n",
      "11348/11348 [==============================] - 37s 3ms/step - loss: 196787232.0000\n",
      "Epoch 28/50\n",
      "11348/11348 [==============================] - 32s 3ms/step - loss: 196786576.0000\n",
      "Epoch 29/50\n",
      "11348/11348 [==============================] - 32s 3ms/step - loss: 196787184.0000\n",
      "Epoch 30/50\n",
      "11348/11348 [==============================] - 34s 3ms/step - loss: 196787328.0000\n",
      "Epoch 31/50\n",
      "11348/11348 [==============================] - 33s 3ms/step - loss: 196787120.0000\n",
      "Epoch 32/50\n",
      "11348/11348 [==============================] - 33s 3ms/step - loss: 196787440.0000\n",
      "Epoch 33/50\n",
      "11348/11348 [==============================] - 32s 3ms/step - loss: 196786784.0000\n",
      "Epoch 34/50\n",
      "11348/11348 [==============================] - 36s 3ms/step - loss: 196787344.0000\n",
      "Epoch 35/50\n",
      "11348/11348 [==============================] - 32s 3ms/step - loss: 196786624.0000\n",
      "Epoch 36/50\n",
      "11348/11348 [==============================] - 32s 3ms/step - loss: 196786704.0000\n",
      "Epoch 37/50\n",
      "11348/11348 [==============================] - 33s 3ms/step - loss: 196787088.0000\n",
      "Epoch 38/50\n",
      "11348/11348 [==============================] - 35s 3ms/step - loss: 196787584.0000\n",
      "Epoch 39/50\n",
      "11348/11348 [==============================] - 32s 3ms/step - loss: 196786960.0000\n",
      "Epoch 40/50\n",
      "11348/11348 [==============================] - 33s 3ms/step - loss: 196787248.0000\n",
      "Epoch 41/50\n",
      "11348/11348 [==============================] - 39s 3ms/step - loss: 196786976.0000\n",
      "Epoch 42/50\n",
      "11348/11348 [==============================] - 34s 3ms/step - loss: 196787136.0000\n",
      "Epoch 43/50\n",
      "11348/11348 [==============================] - 34s 3ms/step - loss: 196786576.0000\n",
      "Epoch 44/50\n",
      "11348/11348 [==============================] - 36s 3ms/step - loss: 196787344.0000\n",
      "Epoch 45/50\n",
      "11348/11348 [==============================] - 37s 3ms/step - loss: 196787040.0000\n",
      "Epoch 46/50\n",
      "11348/11348 [==============================] - 36s 3ms/step - loss: 196786752.0000\n",
      "Epoch 47/50\n",
      "11348/11348 [==============================] - 39s 3ms/step - loss: 196786992.0000\n",
      "Epoch 48/50\n",
      "11348/11348 [==============================] - 43s 4ms/step - loss: 196787184.0000\n",
      "Epoch 49/50\n",
      "11348/11348 [==============================] - 42s 4ms/step - loss: 196787168.0000\n",
      "Epoch 50/50\n",
      "11348/11348 [==============================] - 43s 4ms/step - loss: 196786912.0000\n"
     ]
    },
    {
     "data": {
      "text/plain": [
       "<keras.src.callbacks.History at 0x21e78777cd0>"
      ]
     },
     "execution_count": 12,
     "metadata": {},
     "output_type": "execute_result"
    }
   ],
   "source": [
    "# Entrenar el autoencoder\n",
    "autoencoder.fit(features_array, features_array, epochs=50, batch_size=32)"
   ]
  },
  {
   "cell_type": "code",
   "execution_count": 13,
   "id": "a0de07d7-9e07-4d39-8ce2-191d6a599dd6",
   "metadata": {},
   "outputs": [
    {
     "name": "stdout",
     "output_type": "stream",
     "text": [
      "11348/11348 [==============================] - 26s 2ms/step\n"
     ]
    }
   ],
   "source": [
    "# Obtener las representaciones codificadas de los datos\n",
    "encoded_features_model = tf.keras.models.Model(inputs=input_layer, outputs=encoder)\n",
    "encoded_features = encoded_features_model.predict(features_array)"
   ]
  },
  {
   "cell_type": "code",
   "execution_count": 14,
   "id": "b071f959-07dc-414b-95a3-18d52df856f7",
   "metadata": {},
   "outputs": [],
   "source": [
    "from pyspark.ml.linalg import Vectors\n",
    "\n",
    "# Convertir las representaciones codificadas de vuelta a un DataFrame de Spark\n",
    "encoded_features_rdd = spark.sparkContext.parallelize(encoded_features.tolist())\n",
    "encoded_features_df = encoded_features_rdd.map(lambda x: (Vectors.dense(x),)).toDF([\"encoded_features\"])"
   ]
  },
  {
   "cell_type": "code",
   "execution_count": 15,
   "id": "b53666c2-8e1c-42b4-a6e5-ed38cb3ce295",
   "metadata": {},
   "outputs": [
    {
     "name": "stdout",
     "output_type": "stream",
     "text": [
      "Epoch 1/50\n",
      "11348/11348 [==============================] - 31s 3ms/step - loss: 196787248.0000\n",
      "Epoch 2/50\n",
      "11348/11348 [==============================] - 31s 3ms/step - loss: 196787440.0000\n",
      "Epoch 3/50\n",
      "11348/11348 [==============================] - 34s 3ms/step - loss: 196787456.0000\n",
      "Epoch 4/50\n",
      "11348/11348 [==============================] - 31s 3ms/step - loss: 196787120.0000\n",
      "Epoch 5/50\n",
      "11348/11348 [==============================] - 31s 3ms/step - loss: 196787392.0000\n",
      "Epoch 6/50\n",
      "11348/11348 [==============================] - 33s 3ms/step - loss: 196787120.0000\n",
      "Epoch 7/50\n",
      "11348/11348 [==============================] - 33s 3ms/step - loss: 196787024.0000\n",
      "Epoch 8/50\n",
      "11348/11348 [==============================] - 31s 3ms/step - loss: 196786704.0000\n",
      "Epoch 9/50\n",
      "11348/11348 [==============================] - 32s 3ms/step - loss: 196787600.0000\n",
      "Epoch 10/50\n",
      "11348/11348 [==============================] - 35s 3ms/step - loss: 196786928.0000\n",
      "Epoch 11/50\n",
      "11348/11348 [==============================] - 31s 3ms/step - loss: 196786864.0000\n",
      "Epoch 12/50\n",
      "11348/11348 [==============================] - 31s 3ms/step - loss: 196786720.0000\n",
      "Epoch 13/50\n",
      "11348/11348 [==============================] - 31s 3ms/step - loss: 196787440.0000\n",
      "Epoch 14/50\n",
      "11348/11348 [==============================] - 36s 3ms/step - loss: 196786992.0000\n",
      "Epoch 15/50\n",
      "11348/11348 [==============================] - 33s 3ms/step - loss: 196787232.0000\n",
      "Epoch 16/50\n",
      "11348/11348 [==============================] - 31s 3ms/step - loss: 196787040.0000\n",
      "Epoch 17/50\n",
      "11348/11348 [==============================] - 33s 3ms/step - loss: 196787136.0000\n",
      "Epoch 18/50\n",
      "11348/11348 [==============================] - 34s 3ms/step - loss: 196787280.0000\n",
      "Epoch 19/50\n",
      "11348/11348 [==============================] - 31s 3ms/step - loss: 196787664.0000\n",
      "Epoch 20/50\n",
      "11348/11348 [==============================] - 31s 3ms/step - loss: 196787200.0000\n",
      "Epoch 21/50\n",
      "11348/11348 [==============================] - 35s 3ms/step - loss: 196787040.0000\n",
      "Epoch 22/50\n",
      "11348/11348 [==============================] - 31s 3ms/step - loss: 196786704.0000\n",
      "Epoch 23/50\n",
      "11348/11348 [==============================] - 32s 3ms/step - loss: 196787456.0000\n",
      "Epoch 24/50\n",
      "11348/11348 [==============================] - 33s 3ms/step - loss: 196787744.0000\n",
      "Epoch 25/50\n",
      "11348/11348 [==============================] - 36s 3ms/step - loss: 196786976.0000\n",
      "Epoch 26/50\n",
      "11348/11348 [==============================] - 33s 3ms/step - loss: 196787168.0000\n",
      "Epoch 27/50\n",
      "11348/11348 [==============================] - 31s 3ms/step - loss: 196787200.0000\n",
      "Epoch 28/50\n",
      "11348/11348 [==============================] - 34s 3ms/step - loss: 196787296.0000\n",
      "Epoch 29/50\n",
      "11348/11348 [==============================] - 35s 3ms/step - loss: 196787248.0000\n",
      "Epoch 30/50\n",
      "11348/11348 [==============================] - 31s 3ms/step - loss: 196788016.0000\n",
      "Epoch 31/50\n",
      "11348/11348 [==============================] - 32s 3ms/step - loss: 196787248.0000\n",
      "Epoch 32/50\n",
      "11348/11348 [==============================] - 36s 3ms/step - loss: 196787136.0000\n",
      "Epoch 33/50\n",
      "11348/11348 [==============================] - 32s 3ms/step - loss: 196787792.0000\n",
      "Epoch 34/50\n",
      "11348/11348 [==============================] - 32s 3ms/step - loss: 196787440.0000\n",
      "Epoch 35/50\n",
      "11348/11348 [==============================] - 32s 3ms/step - loss: 196787536.0000\n",
      "Epoch 36/50\n",
      "11348/11348 [==============================] - 37s 3ms/step - loss: 196787040.0000\n",
      "Epoch 37/50\n",
      "11348/11348 [==============================] - 32s 3ms/step - loss: 196787120.0000\n",
      "Epoch 38/50\n",
      "11348/11348 [==============================] - 32s 3ms/step - loss: 196787792.0000\n",
      "Epoch 39/50\n",
      "11348/11348 [==============================] - 34s 3ms/step - loss: 196787232.0000\n",
      "Epoch 40/50\n",
      "11348/11348 [==============================] - 34s 3ms/step - loss: 196786960.0000\n",
      "Epoch 41/50\n",
      "11348/11348 [==============================] - 32s 3ms/step - loss: 196786976.0000\n",
      "Epoch 42/50\n",
      "11348/11348 [==============================] - 32s 3ms/step - loss: 196787168.0000\n",
      "Epoch 43/50\n",
      "11348/11348 [==============================] - 38s 3ms/step - loss: 196787136.0000\n",
      "Epoch 44/50\n",
      "11348/11348 [==============================] - 32s 3ms/step - loss: 196787072.0000\n",
      "Epoch 45/50\n",
      "11348/11348 [==============================] - 32s 3ms/step - loss: 196787280.0000\n",
      "Epoch 46/50\n",
      "11348/11348 [==============================] - 34s 3ms/step - loss: 196787072.0000\n",
      "Epoch 47/50\n",
      "11348/11348 [==============================] - 35s 3ms/step - loss: 196787184.0000\n",
      "Epoch 48/50\n",
      "11348/11348 [==============================] - 34s 3ms/step - loss: 196787072.0000\n",
      "Epoch 49/50\n",
      "11348/11348 [==============================] - 36s 3ms/step - loss: 196787120.0000\n",
      "Epoch 50/50\n",
      "11348/11348 [==============================] - 39s 3ms/step - loss: 196787408.0000\n",
      "Métricas durante el entrenamiento:\n",
      "{'loss': [196787248.0, 196787440.0, 196787456.0, 196787120.0, 196787392.0, 196787120.0, 196787024.0, 196786704.0, 196787600.0, 196786928.0, 196786864.0, 196786720.0, 196787440.0, 196786992.0, 196787232.0, 196787040.0, 196787136.0, 196787280.0, 196787664.0, 196787200.0, 196787040.0, 196786704.0, 196787456.0, 196787744.0, 196786976.0, 196787168.0, 196787200.0, 196787296.0, 196787248.0, 196788016.0, 196787248.0, 196787136.0, 196787792.0, 196787440.0, 196787536.0, 196787040.0, 196787120.0, 196787792.0, 196787232.0, 196786960.0, 196786976.0, 196787168.0, 196787136.0, 196787072.0, 196787280.0, 196787072.0, 196787184.0, 196787072.0, 196787120.0, 196787408.0]}\n"
     ]
    }
   ],
   "source": [
    "# Entrenar el autoencoder\n",
    "history = autoencoder.fit(features_array, features_array, epochs=50, batch_size=32)\n",
    "\n",
    "# Imprimir métricas durante el entrenamiento\n",
    "print(\"Métricas durante el entrenamiento:\")\n",
    "print(history.history)"
   ]
  },
  {
   "cell_type": "code",
   "execution_count": 16,
   "id": "802dcb28-5c85-43b2-8f8c-7a985d11a4cf",
   "metadata": {},
   "outputs": [
    {
     "data": {
      "image/png": "[encoded data removed]",
      "text/plain": [
       "<Figure size 640x480 with 1 Axes>"
      ]
     },
     "metadata": {},
     "output_type": "display_data"
    }
   ],
   "source": [
    "import matplotlib.pyplot as plt\n",
    "\n",
    "# Visualizar la pérdida durante el entrenamiento\n",
    "plt.plot(history.history['loss'])\n",
    "plt.title('Pérdida durante el entrenamiento')\n",
    "plt.xlabel('Época')\n",
    "plt.ylabel('Pérdida')\n",
    "plt.show()"
   ]
  },
  {
   "cell_type": "code",
   "execution_count": 17,
   "id": "f3c32a3f-3ab1-4e1d-bcd5-81601f340c12",
   "metadata": {},
   "outputs": [],
   "source": [
    "# Suponiendo que `encoded_features_df` contiene las representaciones codificadas de tus datos\n",
    "# Convertir el DataFrame de Spark a un array NumPy\n",
    "encoded_features_array = np.array(encoded_features_df.select(\"encoded_features\").rdd.map(lambda x: x.encoded_features.toArray()).collect())"
   ]
  },
  {
   "cell_type": "code",
   "execution_count": 19,
   "id": "c0f327d2-2032-4226-8e3a-709659777a8b",
   "metadata": {},
   "outputs": [],
   "source": [
    "from pyspark.ml.clustering import KMeans\n",
    "from pyspark.ml.feature import VectorAssembler\n",
    "from sklearn.cluster import DBSCAN\n",
    "from sklearn.preprocessing import StandardScaler\n",
    "import numpy as np"
   ]
  },
  {
   "cell_type": "code",
   "execution_count": null,
   "id": "c039439a-6bcb-4cea-b6b7-ba6dfa960668",
   "metadata": {},
   "outputs": [],
   "source": []
  },
  {
   "cell_type": "raw",
   "id": "cba97ef1-e72f-41c5-a26d-ce51e2c6d749",
   "metadata": {},
   "source": [
    "# Escalar los datos para que tengan media 0 y desviación estándar 1\n",
    "scaler = StandardScaler()\n",
    "scaled_encoded_features = scaler.fit_transform(encoded_features_array)"
   ]
  },
  {
   "cell_type": "code",
   "execution_count": 25,
   "id": "51ccdda7-c3bf-461d-8991-1d5a6094ff4f",
   "metadata": {},
   "outputs": [],
   "source": [
    "# Construir el árbol KD\n",
    "kdtree = KDTree(encoded_features_array)\n",
    "\n",
    "# Definir el radio de búsqueda (epsilon)\n",
    "epsilon = 0.5\n",
    "\n",
    "# Crear una lista para almacenar las etiquetas de cluster\n",
    "cluster_labels = []\n"
   ]
  },
  {
   "cell_type": "code",
   "execution_count": null,
   "id": "d1a65e21-b6ca-4a5c-b6a4-1a8390b27b59",
   "metadata": {},
   "outputs": [],
   "source": []
  },
  {
   "cell_type": "code",
   "execution_count": null,
   "id": "2e0ba92b-0ec7-42da-be49-a3947debd00f",
   "metadata": {},
   "outputs": [],
   "source": []
  },
  {
   "cell_type": "code",
   "execution_count": 26,
   "id": "dfdef4fd-5d42-4cb6-833a-65c62f5fb62f",
   "metadata": {},
   "outputs": [],
   "source": [
    "# Para cada punto en tus datos, buscar vecinos dentro del radio epsilon\n",
    "for i in range(len(encoded_features_array)):\n",
    "    neighbors = kdtree.query_radius([encoded_features_array[i]], r=epsilon)\n",
    "    # Si el número de vecinos es mayor o igual al número mínimo de muestras para formar un cluster\n",
    "    if len(neighbors[0]) >= min_samples:\n",
    "        # Asignar una etiqueta de cluster\n",
    "        cluster_labels.append(len(cluster_labels) + 1)\n",
    "    else:\n",
    "        # Asignar una etiqueta de ruido (-1)\n",
    "        cluster_labels.append(-1)"
   ]
  },
  {
   "cell_type": "code",
   "execution_count": 29,
   "id": "4f58f4cc-4e6e-4f7c-993c-61fccca95dbc",
   "metadata": {},
   "outputs": [],
   "source": [
    "from pyspark.sql.functions import lit, monotonically_increasing_id\n",
    "\n",
    "# Agregar las etiquetas de cluster al DataFrame original\n",
    "encoded_features_df = encoded_features_df.withColumn(\"cluster_label\", lit(cluster_labels))"
   ]
  },
  {
   "cell_type": "code",
   "execution_count": 30,
   "id": "a3602c38-2235-4d67-af1c-017b6b5612b2",
   "metadata": {},
   "outputs": [
    {
     "name": "stdout",
     "output_type": "stream",
     "text": [
      "+--------------------+--------------------+\n",
      "|    encoded_features|       cluster_label|\n",
      "+--------------------+--------------------+\n",
      "|[204313.90625,244...|[1, -1, -1, -1, -...|\n",
      "|[204318.515625,24...|[1, -1, -1, -1, -...|\n",
      "|[390545.09375,467...|[1, -1, -1, -1, -...|\n",
      "|[204326.375,24446...|[1, -1, -1, -1, -...|\n",
      "|[204317.875,24446...|[1, -1, -1, -1, -...|\n",
      "|[204314.8125,2444...|[1, -1, -1, -1, -...|\n",
      "|[25669.431640625,...|[1, -1, -1, -1, -...|\n",
      "|[204319.875,24446...|[1, -1, -1, -1, -...|\n",
      "|[204317.25,244465...|[1, -1, -1, -1, -...|\n",
      "|[204312.796875,24...|[1, -1, -1, -1, -...|\n",
      "|[204319.8125,2444...|[1, -1, -1, -1, -...|\n",
      "|[204324.453125,24...|[1, -1, -1, -1, -...|\n",
      "|[204321.0625,2444...|[1, -1, -1, -1, -...|\n",
      "|[204322.390625,24...|[1, -1, -1, -1, -...|\n",
      "|[204319.359375,24...|[1, -1, -1, -1, -...|\n",
      "|[204322.625,24440...|[1, -1, -1, -1, -...|\n",
      "|[204317.46875,244...|[1, -1, -1, -1, -...|\n",
      "|[204324.53125,244...|[1, -1, -1, -1, -...|\n",
      "|[204316.703125,24...|[1, -1, -1, -1, -...|\n",
      "|[204315.28125,244...|[1, -1, -1, -1, -...|\n",
      "+--------------------+--------------------+\n",
      "only showing top 20 rows\n",
      "\n"
     ]
    }
   ],
   "source": [
    "# Mostrar el DataFrame resultante\n",
    "encoded_features_df.show()"
   ]
  },
  {
   "cell_type": "code",
   "execution_count": null,
   "id": "76f67c23-4bd3-4fde-bd42-46a8681d01ae",
   "metadata": {},
   "outputs": [],
   "source": [
    "from sklearn.manifold import TSNE\n",
    "import matplotlib.pyplot as plt\n",
    "import seaborn as sns\n",
    "\n",
    "# Suponiendo que `encoded_features_array` contiene las representaciones codificadas de tus datos\n",
    "# y `cluster_labels` contiene las etiquetas de clúster asignadas por DBSCAN\n",
    "\n",
    "# Reducir la dimensionalidad con t-SNE\n",
    "tsne = TSNE(n_components=2, random_state=42)\n",
    "tsne_encoded_features = tsne.fit_transform(encoded_features_array)\n",
    "\n",
    "# Crear un DataFrame de pandas para la visualización\n",
    "tsne_df = pd.DataFrame(tsne_encoded_features, columns=['Componente 1', 'Componente 2'])\n",
    "tsne_df['Cluster'] = cluster_labels\n",
    "\n",
    "# Visualizar los clústeres en un gráfico de dispersión\n",
    "plt.figure(figsize=(10, 8))\n",
    "sns.scatterplot(x='Componente 1', y='Componente 2', hue='Cluster', data=tsne_df, palette='mako', legend='full')\n",
    "plt.title('Visualización de Clústeres con t-SNE')\n",
    "plt.xlabel('Componente 1')\n",
    "plt.ylabel('Componente 2')\n",
    "plt.legend(title='Cluster')\n",
    "plt.show()\n"
   ]
  },
  {
   "cell_type": "code",
   "execution_count": null,
   "id": "8f7515a6-666d-4bfb-aa64-33f19da6c9d3",
   "metadata": {},
   "outputs": [],
   "source": [
    "# Suponiendo que `encoded_features_array` contiene las representaciones codificadas de tus datos\n",
    "# y `cluster_labels` contiene las etiquetas de clúster asignadas por DBSCAN\n",
    "\n",
    "# Reducir la dimensionalidad con t-SNE\n",
    "tsne = TSNE(n_components=2, random_state=42)\n",
    "tsne_encoded_features = tsne.fit_transform(encoded_features_array)\n",
    "\n",
    "# Crear un DataFrame de pandas para la visualización\n",
    "tsne_df = pd.DataFrame(tsne_encoded_features, columns=['Componente 1', 'Componente 2'])\n",
    "tsne_df['Cluster'] = cluster_labels\n",
    "\n",
    "# Filtrar los datos para visualizar solo los cuatro clústeres\n",
    "tsne_df_filtered = tsne_df[tsne_df['Cluster'] >= 0]  # Solo considerar clústeres con etiquetas positivas\n",
    "\n",
    "# Visualizar los clústeres en un gráfico de dispersión\n",
    "plt.figure(figsize=(10, 8))\n",
    "sns.scatterplot(x='Componente 1', y='Componente 2', hue='Cluster', data=tsne_df_filtered, palette='mako', legend='full')\n",
    "plt.title('Visualización de Clústeres con t-SNE')\n",
    "plt.xlabel('Componente 1')\n",
    "plt.ylabel('Componente 2')\n",
    "plt.legend(title='Cluster')\n",
    "plt.show()\n"
   ]
  },
  {
   "cell_type": "code",
   "execution_count": null,
   "id": "2273ccea-42af-4d30-a0d4-c5e9fa10d43a",
   "metadata": {},
   "outputs": [],
   "source": []
  },
  {
   "cell_type": "raw",
   "id": "f2fb5572-8e88-4e03-a535-1888fbdd3132",
   "metadata": {},
   "source": [
    "# Crear el modelo DBSCAN\n",
    "eps = 0.5\n",
    "min_samples = 5\n",
    "dbscan = DBSCAN(eps=eps, min_samples=min_samples)"
   ]
  },
  {
   "cell_type": "raw",
   "id": "038d1941-d6cd-4db1-b9ea-f5e174cf2234",
   "metadata": {},
   "source": [
    "# Entrenar el modelo\n",
    "dbscan.fit(scaled_encoded_features)\n",
    "\n"
   ]
  },
  {
   "cell_type": "raw",
   "id": "4994998e-9716-4abb-96dd-a16ec4811c09",
   "metadata": {},
   "source": [
    "# Obtener las etiquetas de cluster asignadas por DBSCAN\n",
    "cluster_labels = dbscan.labels_"
   ]
  },
  {
   "cell_type": "raw",
   "id": "4e827c72-a59c-4db0-832f-861a016806f6",
   "metadata": {},
   "source": [
    "# Agregar las etiquetas de cluster al DataFrame original\n",
    "encoded_features_df = encoded_features_df.withColumn(\"cluster_label\", lit(cluster_labels))"
   ]
  },
  {
   "cell_type": "raw",
   "id": "0f50e223-159c-46c4-a449-53cbff6125c6",
   "metadata": {},
   "source": [
    "# Mostrar el DataFrame resultante\n",
    "encoded_features_df.show()"
   ]
  },
  {
   "cell_type": "raw",
   "id": "21404ab4-bff2-4a87-9937-4c54fc4380dd",
   "metadata": {},
   "source": [
    "from pyspark.sql.functions import monotonically_increasing_id\n",
    "\n",
    "# Agregar una columna de identificación única a cada DataFrame\n",
    "df = df.withColumn(\"id\", monotonically_increasing_id())\n",
    "encoded_features_df = encoded_features_df.withColumn(\"id\", monotonically_increasing_id())\n",
    "\n",
    "# Unir los DataFrames utilizando la nueva columna de identificación\n",
    "df_with_clusters = df.join(encoded_features_df, on=\"id\", how=\"inner\")\n",
    "\n",
    "# Eliminar la columna de identificación después de la unión si no la necesitas\n",
    "df_with_clusters = df_with_clusters.drop(\"id\")\n",
    "\n",
    "# Mostrar el DataFrame resultante\n",
    "df_with_clusters.show()\n"
   ]
  },
  {
   "cell_type": "raw",
   "id": "066c048c-291d-4253-97d6-dca37021652d",
   "metadata": {},
   "source": [
    "from sklearn.cluster import DBSCAN\n",
    "from sklearn.preprocessing import StandardScaler\n",
    "\n",
    "# Escalar los datos para que tengan media 0 y desviación estándar 1\n",
    "scaler = StandardScaler()\n",
    "scaled_features = scaler.fit_transform(features_array)\n",
    "\n",
    "# Crear el modelo DBSCAN\n",
    "# Es importante ajustar los hiperparámetros epsilon (eps) y min_samples adecuadamente\n",
    "# El epsilon es el radio máximo de la vecindad considerada\n",
    "# min_samples es el número mínimo de muestras en la vecindad para considerar un punto central\n",
    "dbscan = DBSCAN(eps=0.5, min_samples=5)\n",
    "\n",
    "# Entrenar el modelo\n",
    "dbscan.fit(scaled_features)\n",
    "\n",
    "# Obtener las etiquetas de cluster asignadas por DBSCAN\n",
    "cluster_labels = dbscan.labels_\n",
    "\n",
    "# Calcular el número de clusters y el número de puntos de ruido (outliers)\n",
    "n_clusters_ = len(set(cluster_labels)) - (1 if -1 in cluster_labels else 0)\n",
    "n_noise_ = list(cluster_labels).count(-1)\n",
    "\n",
    "# Imprimir el número de clusters y el número de puntos de ruido\n",
    "print('Número estimado de clusters:', n_clusters_)\n",
    "print('Número de puntos de ruido:', n_noise_)\n",
    "\n",
    "# También puedes calcular las métricas de clustering si tienes las etiquetas reales\n",
    "# Por ejemplo, puedes usar homogeneity_completeness_v_measure o silhouette_score"
   ]
  },
  {
   "cell_type": "raw",
   "id": "8061ac89-5235-4940-a7b8-66ce0951a04b",
   "metadata": {},
   "source": [
    "from sklearn.cluster import DBSCAN\n",
    "from sklearn.preprocessing import StandardScaler\n",
    "\n",
    "# Escalar los datos para que tengan media 0 y desviación estándar 1\n",
    "scaler = StandardScaler()\n",
    "scaled_features = scaler.fit_transform(features_array)"
   ]
  },
  {
   "cell_type": "raw",
   "id": "f3438815-1286-4f84-9d06-1394d43d4325",
   "metadata": {},
   "source": [
    "# Crear el modelo DBSCAN\n",
    "# Es importante ajustar los hiperparámetros epsilon (eps) y min_samples adecuadamente\n",
    "# El epsilon es el radio máximo de la vecindad considerada\n",
    "# min_samples es el número mínimo de muestras en la vecindad para considerar un punto central\n",
    "dbscan = DBSCAN(eps=0.5, min_samples=5)"
   ]
  },
  {
   "cell_type": "raw",
   "id": "aa360cba-1afd-4cca-bcbb-db88a3b4a6c4",
   "metadata": {},
   "source": [
    "# Entrenar el modelo\n",
    "dbscan.fit(scaled_features)"
   ]
  },
  {
   "cell_type": "raw",
   "id": "219342ad-760a-4718-881f-3eeb57da4393",
   "metadata": {},
   "source": [
    "# Obtener las etiquetas de cluster asignadas por DBSCAN\n",
    "cluster_labels = dbscan.labels_"
   ]
  },
  {
   "cell_type": "raw",
   "id": "f1caead7-c552-45e6-a19c-c17cb2af4cdc",
   "metadata": {},
   "source": [
    "# Calcular el número de clusters y el número de puntos de ruido (outliers)\n",
    "n_clusters_ = len(set(cluster_labels)) - (1 if -1 in cluster_labels else 0)\n",
    "n_noise_ = list(cluster_labels).count(-1)"
   ]
  },
  {
   "cell_type": "raw",
   "id": "c253ce4e-27dc-4df6-ac6a-43c8f0a92a55",
   "metadata": {},
   "source": [
    "# Imprimir el número de clusters y el número de puntos de ruido\n",
    "print('Número estimado de clusters:', n_clusters_)\n",
    "print('Número de puntos de ruido:', n_noise_)"
   ]
  },
  {
   "cell_type": "code",
   "execution_count": null,
   "id": "a0ef7bd2-9287-4e36-a37d-c216571a8a2b",
   "metadata": {},
   "outputs": [],
   "source": []
  },
  {
   "cell_type": "code",
   "execution_count": null,
   "id": "49333de5-86b4-4487-a782-7d457b23771b",
   "metadata": {},
   "outputs": [],
   "source": []
  },
  {
   "cell_type": "code",
   "execution_count": null,
   "id": "3aa47fea-c7de-463a-bd8d-9402ccdb7e1f",
   "metadata": {},
   "outputs": [],
   "source": []
  },
  {
   "cell_type": "code",
   "execution_count": null,
   "id": "b914ca63-50dd-4945-89db-aecdf7a6c5ee",
   "metadata": {},
   "outputs": [],
   "source": []
  }
 ],
 "metadata": {
  "kernelspec": {
   "display_name": "Python 3 (ipykernel)",
   "language": "python",
   "name": "python3"
  },
  "language_info": {
   "codemirror_mode": {
    "name": "ipython",
    "version": 3
   },
   "file_extension": ".py",
   "mimetype": "text/x-python",
   "name": "python",
   "nbconvert_exporter": "python",
   "pygments_lexer": "ipython3",
   "version": "3.11.4"
  }
 },
 "nbformat": 4,
 "nbformat_minor": 5
}
