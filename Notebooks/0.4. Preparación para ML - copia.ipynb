{
 "cells": [
  {
   "cell_type": "markdown",
   "id": "eb2dd9c5-4a01-4324-9652-15e8795414c3",
   "metadata": {},
   "source": [
    "<div style=\"position: absolute; top: 0; left: 0; font-family: 'Garamond'; font-size: 16px;\">\n",
    "    <a href=\"https://github.com/patriciaapenat\" style=\"text-decoration: none; color: inherit;\">Patricia Peña Torres</a>\n",
    "</div>\n",
    "\n",
    "<div align=\"center\" style=\"font-family: 'Garamond'; font-size: 48px;\">\n",
    "    <strong>Proyecto final, BRFSS-clustering</strong>\n",
    "</div>\n",
    "\n",
    "<div align=\"center\" style=\"font-family: 'Garamond'; font-size: 36px;\">\n",
    "    <strong>0.2. Análisis exploratorio</strong>\n",
    "</div>"
   ]
  },
  {
   "cell_type": "markdown",
   "id": "9996665d-371b-49eb-aed3-c9bdc041a87a",
   "metadata": {},
   "source": [
    "__________________"
   ]
  },
  {
   "cell_type": "markdown",
   "id": "ae79c08c-36ef-4bf1-9466-3c2fe33aee97",
   "metadata": {},
   "source": [
    "<div style=\"font-family: 'Garamond'; font-size: 14px;\">\n",
    "\n",
    "En este notebook se llava a cabo lo relativo al análisis exploratorio, por la naturaleza de los datos este EDA se ha centrado principalmente en variables demográficas\n",
    "    \n",
    "</div>"
   ]
  },
  {
   "cell_type": "markdown",
   "id": "339f5ac0-5401-4237-903b-5763e0ee97c6",
   "metadata": {},
   "source": [
    "<div style=\"font-family: 'Garamond'; font-size: 16px;\">\n",
    "    <strong>Configuración del entorno de trabajo</strong>\n",
    "</div>"
   ]
  },
  {
   "cell_type": "code",
   "execution_count": 1,
   "id": "5b597558-4d8e-4ba1-9bfe-71a7482505f6",
   "metadata": {},
   "outputs": [],
   "source": [
    "import pandas as pd\n",
    "import findspark\n",
    "findspark.init()\n",
    "import pyspark\n",
    "import random\n",
    "import os.path\n",
    "import seaborn as sns\n",
    "from pyspark import SparkConf, SparkContext\n",
    "from pyspark.sql import SparkSession\n",
    "from pyspark.sql.functions import col\n",
    "import os\n",
    "from pyspark.sql import DataFrame\n",
    "import pickle\n",
    "import matplotlib.pyplot as plt\n",
    "from pyspark.sql.functions import col\n",
    "import pyspark.sql.functions as F\n",
    "from pyspark.ml.feature import Imputer\n",
    "from functools import reduce\n",
    "from pyspark.sql import DataFrame\n",
    "import warnings\n",
    "from pyspark.ml import Pipeline\n",
    "\n",
    "# Ignorar advertencias deprecated\n",
    "warnings.filterwarnings(\"ignore\", category=FutureWarning)"
   ]
  },
  {
   "cell_type": "code",
   "execution_count": 2,
   "id": "c17f6a3e-1bbc-4f71-b4be-5272a040457c",
   "metadata": {},
   "outputs": [],
   "source": [
    "# configurar gráficos\n",
    "sns.set(style=\"whitegrid\", context=\"notebook\", palette=\"mako\")"
   ]
  },
  {
   "cell_type": "markdown",
   "id": "1d9f2995-edfa-4aeb-b366-b25220be6cbd",
   "metadata": {},
   "source": [
    "<div style=\"font-family: 'Garamond'; font-size: 14px;\">\n",
    "    <strong>Configuración de Spark</strong>\n",
    "</div>"
   ]
  },
  {
   "cell_type": "code",
   "execution_count": 3,
   "id": "67c1edd3-f886-4c44-81bf-d6052444175c",
   "metadata": {},
   "outputs": [],
   "source": [
    "# Si hay un SparkContext existente, debemos cerrarlo antes de crear uno nuevo\n",
    "if 'sc' in locals() and sc:\n",
    "    sc.stop()  # Detener el SparkContext anterior si existe\n",
    "\n",
    "# Configuración de Spark\n",
    "conf = (\n",
    "    SparkConf()\n",
    "    .setAppName(\"Proyecto_PatriciaA_Peña\")  # Nombre de la aplicación en Spark\n",
    "    .setMaster(\"local[1]\")  # Modo local con un hilo para ejecución\n",
    "    .set(\"spark.driver.host\", \"127.0.0.1\")  # Dirección del host del driver\n",
    "    .set(\"spark.executor.heartbeatInterval\", \"3600s\")  # Intervalo de latido del executor\n",
    "    .set(\"spark.network.timeout\", \"7200s\")  # Tiempo de espera de la red\n",
    "    .set(\"spark.executor.memory\", \"14g\")  # Memoria asignada para cada executor\n",
    "    .set(\"spark.driver.memory\", \"14g\")  # Memoria asignada para el driver\n",
    ")\n",
    "\n",
    "# Crear un nuevo SparkContext con la configuración especificada\n",
    "sc = SparkContext(conf=conf)\n",
    "\n",
    "# Configuración de SparkSession (interfaz de alto nivel para trabajar con datos estructurados en Spark)\n",
    "spark = (\n",
    "    SparkSession.builder\n",
    "    .appName(\"Proyecto_PatriciaA_Peña\")  # Nombre de la aplicación en Spark\n",
    "    .config(\"spark.sql.repl.eagerEval.enabled\", True)  # Habilitar la evaluación perezosa en Spark SQL REPL\n",
    "    .config(\"spark.sql.repl.eagerEval.maxNumRows\", 1000)  # Número máximo de filas a mostrar en la evaluación perezosa\n",
    "    .getOrCreate()  # Obtener la sesión Spark existente o crear una nueva si no existe\n",
    ") "
   ]
  },
  {
   "cell_type": "markdown",
   "id": "61069114-4bba-425b-b2ff-5e109d12fbe3",
   "metadata": {},
   "source": [
    "<div style=\"font-family: 'Garamond'; font-size: 14px;\">\n",
    "    <strong>Lectura del archivo</strong>\n",
    "</div>"
   ]
  },
  {
   "cell_type": "code",
   "execution_count": 4,
   "id": "a87dc7af-efec-4874-a40a-b6d60a0fb936",
   "metadata": {},
   "outputs": [],
   "source": [
    "df = spark.read.format(\"csv\").option(\"header\", \"true\").load(r\"C:\\\\Users\\\\patri\\\\OneDrive - UAB\\\\Documentos\\\\GitHub\\\\BRFSS-clustering\\\\datos\\\\BRFSS_imputated_2022.csv\")"
   ]
  },
  {
   "cell_type": "code",
   "execution_count": 5,
   "id": "8d7a900d-2deb-4c3f-b090-0a800fe1fca8",
   "metadata": {},
   "outputs": [],
   "source": [
    "# Convertir todas las columnas a tipo numérico\n",
    "for column_name in df.columns:\n",
    "    df = df.withColumn(column_name, col(column_name).cast(\"double\"))"
   ]
  },
  {
   "cell_type": "code",
   "execution_count": 6,
   "id": "1fe13fd3-9c7e-4d54-b702-1054c46efcbb",
   "metadata": {},
   "outputs": [],
   "source": [
    "from pyspark.ml.feature import VectorAssembler\n",
    "from pyspark.ml.evaluation import ClusteringEvaluator\n",
    "from pyspark.sql import functions as F\n",
    "from pyspark.sql import Row\n",
    "\n",
    "\n",
    "def evaluar_clustering_pyspark(tipo_clustering, modelo, datos, spark_session, metricas=None, nombre_modelo=None):\n",
    "    # Inicializar las métricas como NaN\n",
    "    metricas = {\n",
    "        'Modelo': [nombre_modelo],\n",
    "        'Coeficiente de Silueta': [np.nan],\n",
    "        'Índice de Davies-Bouldin': [np.nan],\n",
    "        'Índice Calinski-Harabasz': [np.nan],\n",
    "        'Anomalías': [np.nan]\n",
    "    }\n",
    "\n",
    "    try:\n",
    "        assembler = VectorAssembler(inputCols=datos.columns, outputCol=\"features\")\n",
    "        datos_con_features = assembler.transform(datos)\n",
    "\n",
    "        # Obtener las etiquetas de cluster asignadas a cada registro\n",
    "        resultados_clustering = modelo.transform(datos_con_features)\n",
    "\n",
    "        # Calcular el coeficiente de silueta\n",
    "        evaluator = ClusteringEvaluator()\n",
    "        coeficiente_silueta = evaluator.evaluate(resultados_clustering)\n",
    "        metricas['Coeficiente de Silueta'] = [coeficiente_silueta]\n",
    "\n",
    "        # Otras métricas no soportadas directamente en PySpark\n",
    "        metricas['Índice de Davies-Bouldin'] = [np.nan]\n",
    "        metricas['Índice Calinski-Harabasz'] = [np.nan]\n",
    "\n",
    "        # Detección de anomalías\n",
    "        outliers = resultados_clustering.select(\"prediction\").groupBy(\"prediction\").count().filter(F.col(\"prediction\") == -1).count()\n",
    "        metricas['Anomalías'] = [outliers]\n",
    "\n",
    "    except AttributeError as e:\n",
    "        print(f\"Error: {e}\")\n",
    "\n",
    "    # Crear un DataFrame con las métricas\n",
    "    nuevas_metricas = pd.DataFrame(metricas)\n",
    "\n",
    "    # Agregar las nuevas métricas al DataFrame existente o crear uno nuevo si no se proporciona ninguno\n",
    "    if metricas is None:\n",
    "        metricas = nuevas_metricas\n",
    "    else:\n",
    "        metricas = pd.concat([metricas, nuevas_metricas], ignore_index=True)\n",
    "\n",
    "    return metricas"
   ]
  },
  {
   "cell_type": "code",
   "execution_count": 7,
   "id": "c6ee3c5b-297e-40a1-b2a2-76d3a2f8f008",
   "metadata": {},
   "outputs": [],
   "source": [
    "def graficar_clusters_spark(dataframe, labels, cluster_centers, titulo=None, etiqueta_x=None, etiqueta_y=None):\n",
    "    # Reducción de dimensionalidad con PCA a 3 componentes\n",
    "    pca = PCA(k=3, inputCol=\"features\", outputCol=\"pca_features\")\n",
    "    data_pca_3d = pca.fit(dataframe).transform(dataframe).select(\"pca_features\").rdd.map(lambda x: x.pca_features.toArray()).collect()\n",
    "    data_pca_3d = np.array(data_pca_3d)\n",
    "\n",
    "    # Graficar en 2D con puntos de datos y centroides\n",
    "    plt.figure(figsize=(12, 6))\n",
    "    ax1 = plt.subplot(121)\n",
    "    ax1.scatter(dataframe[:, 0], dataframe[:, 1], c=labels, cmap='mako')\n",
    "    ax1.scatter(cluster_centers[:, 0], cluster_centers[:, 1], marker='*', c='red', s=100, label='Centroides')\n",
    "    if titulo:\n",
    "        ax1.set_title(titulo + ' - 2D')\n",
    "    if etiqueta_x:\n",
    "        ax1.set_xlabel(etiqueta_x)\n",
    "    if etiqueta_y:\n",
    "        ax1.set_ylabel(etiqueta_y)\n",
    "    ax1.legend()\n",
    "\n",
    "    # Graficar en 3D con puntos de datos y centroides\n",
    "    ax2 = plt.subplot(122, projection='3d')\n",
    "    ax2.scatter(data_pca_3d[:, 0], data_pca_3d[:, 1], data_pca_3d[:, 2], c=labels, cmap='mako', s=50)\n",
    "    ax2.scatter(cluster_centers[:, 0], cluster_centers[:, 1], cluster_centers[:, 2], marker='*', c='red', s=100, label='Centroides')\n",
    "    if titulo:\n",
    "        ax2.set_title(titulo + ' - 3D')\n",
    "    if etiqueta_x:\n",
    "        ax2.set_xlabel(etiqueta_x)\n",
    "    if etiqueta_y:\n",
    "        ax2.set_ylabel(etiqueta_y)\n",
    "    ax2.set_zlabel('Eje Z')\n",
    "    ax2.legend()\n",
    "\n",
    "    # Mostrar los gráficos\n",
    "    plt.tight_layout()\n",
    "    plt.show()"
   ]
  },
  {
   "cell_type": "code",
   "execution_count": 8,
   "id": "b67915a0-49ed-45ae-946f-3c4a03ae1846",
   "metadata": {},
   "outputs": [],
   "source": [
    "from pyspark.sql.types import StructType, StructField, StringType, DoubleType\n",
    "\n",
    "# Definir el esquema del DataFrame\n",
    "schema = StructType([\n",
    "    StructField(\"Modelo\", StringType(), True),\n",
    "    StructField(\"Coeficiente de Silueta\", DoubleType(), True),\n",
    "    StructField(\"Índice de Davies-Bouldin\", DoubleType(), True),\n",
    "    StructField(\"Índice Calinski-Harabasz\", DoubleType(), True),\n",
    "    StructField(\"Anomalías\", DoubleType(), True)\n",
    "])\n",
    "\n",
    "# Crear un DataFrame vacío con el esquema definido\n",
    "df_metricas = spark.createDataFrame([], schema)"
   ]
  },
  {
   "cell_type": "markdown",
   "id": "a922ddf3-c4a7-4982-ab40-42ed1a3d4134",
   "metadata": {},
   "source": [
    "_______________________________"
   ]
  },
  {
   "cell_type": "code",
   "execution_count": 9,
   "id": "6a12dad4-fd9b-4bf9-91fb-eb9a4c1e73f9",
   "metadata": {},
   "outputs": [
    {
     "data": {
      "image/png": "[encoded data removed]",
      "text/plain": [
       "<Figure size 640x480 with 1 Axes>"
      ]
     },
     "metadata": {},
     "output_type": "display_data"
    }
   ],
   "source": [
    "from pyspark.ml.clustering import KMeans\n",
    "from pyspark.ml.feature import VectorAssembler\n",
    "from pyspark.sql import SparkSession\n",
    "from pyspark.ml.evaluation import ClusteringEvaluator\n",
    "import matplotlib.pyplot as plt\n",
    "import seaborn as sns\n",
    "\n",
    "\n",
    "# Convertir las columnas de características a un solo vector columna\n",
    "feature_cols = df.columns\n",
    "vector_assembler = VectorAssembler(inputCols=feature_cols, outputCol=\"features\")\n",
    "df_vectorized = vector_assembler.transform(df)\n",
    "\n",
    "# Crear una lista vacía para almacenar los valores del coeficiente de silueta\n",
    "s_scores = []\n",
    "\n",
    "# Probar diferentes valores de k (número de clusters)\n",
    "for k in range(2, 20):\n",
    "    kmeans = KMeans(featuresCol=\"features\", k=k, initMode=\"k-means||\", maxIter=300, seed=0)\n",
    "    model = kmeans.fit(df_vectorized)\n",
    "\n",
    "    # Obtener las predicciones\n",
    "    predictions = model.transform(df_vectorized)\n",
    "\n",
    "    # Evaluar el modelo utilizando el evaluador de clustering\n",
    "    evaluator = ClusteringEvaluator()\n",
    "    silhouette = evaluator.evaluate(predictions)\n",
    "    \n",
    "    # Añadir el coeficiente de silueta a la lista\n",
    "    s_scores.append(silhouette)\n",
    "\n",
    "# Trazar la curva del coeficiente de silueta en función del número de clusters\n",
    "plt.plot(range(2, 20), s_scores, marker='o', linestyle='-', color=sns.color_palette('mako')[0])\n",
    "plt.xlabel('Número de Clusters (k)')\n",
    "plt.ylabel('Coeficiente de Silueta')\n",
    "plt.title('Evaluación del Coeficiente de Silueta')\n",
    "plt.axvline(x=4, ymin=0, color='red', linewidth=2, ls='--')\n",
    "plt.show()\n"
   ]
  },
  {
   "cell_type": "code",
   "execution_count": null,
   "id": "c44d03ca-1857-4ae9-a5c6-44ec4f1ce5b5",
   "metadata": {},
   "outputs": [],
   "source": [
    "from pyspark.ml.feature import VectorAssembler\n",
    "from pyspark.ml.clustering import KMeans\n",
    "from pyspark.ml.evaluation import ClusteringEvaluator\n",
    "import numpy as np\n",
    "import matplotlib.pyplot as plt\n",
    "import seaborn as sns\n",
    "\n",
    "# Crear una lista vacía para almacenar los valores del coeficiente de silueta\n",
    "s_scores = []\n",
    "\n",
    "# Probar diferentes valores de k (número de clusters)\n",
    "for k in range(2, 20):\n",
    "    # Configurar y ajustar el modelo KMeans\n",
    "    kmeans = KMeans(k=k, seed=0)\n",
    "    assembler = VectorAssembler(inputCols=df.columns, outputCol=\"features\")\n",
    "    df_con_features = assembler.transform(df)\n",
    "    model = kmeans.fit(df_con_features)\n",
    "\n",
    "    # Obtener las predicciones y evaluar el modelo\n",
    "    predictions = model.transform(df_con_features)\n",
    "    evaluator = ClusteringEvaluator()\n",
    "    silhouette_score = evaluator.evaluate(predictions)\n",
    "\n",
    "    # Agregar el coeficiente de silueta a la lista\n",
    "    s_scores.append(silhouette_score)\n",
    "\n",
    "# Trazar la curva del coeficiente de silueta en función del número de clusters\n",
    "plt.plot(range(2, 20), s_scores, marker='o', linestyle='-', color=sns.color_palette('mako')[0])\n",
    "plt.xlabel('Número de Clusters (k)')\n",
    "plt.ylabel('Coeficiente de Silueta')\n",
    "plt.title('Evaluación del Coeficiente de Silueta')\n",
    "plt.axvline(x=4, ymin=0, color='red', linewidth=2, ls='--')\n",
    "plt.show()"
   ]
  },
  {
   "cell_type": "code",
   "execution_count": null,
   "id": "6f2f55a9-b932-49c6-bb17-21269085ac97",
   "metadata": {},
   "outputs": [],
   "source": [
    "print(\"forma original:\", df.shape)"
   ]
  },
  {
   "cell_type": "code",
   "execution_count": null,
   "id": "4c2090f4-b0d3-4fcc-8e9b-cd7858ee6903",
   "metadata": {},
   "outputs": [],
   "source": []
  },
  {
   "cell_type": "code",
   "execution_count": null,
   "id": "8034ba74-8db8-412d-b211-9b841f7037cc",
   "metadata": {},
   "outputs": [],
   "source": [
    "from pyspark.ml.feature import PCA\n",
    "\n",
    "# Crear un objeto PCA con 4 componentes\n",
    "pca = PCA(k=4, inputCol=\"features\", outputCol=\"pca_features\")\n",
    "# Ajustar el modelo PCA al DataFrame\n",
    "modelo_pca = pca.fit(df)\n",
    "# Transformar el DataFrame utilizando el modelo PCA\n",
    "df_transformado = modelo_pca.transform(df)\n",
    "# Imprimir la forma transformada\n",
    "print(\"Forma transformada:\", df_transformado.count(), len(df_transformado.columns))"
   ]
  },
  {
   "cell_type": "code",
   "execution_count": null,
   "id": "dd999049-8edc-44dd-9826-12d40ac62658",
   "metadata": {},
   "outputs": [],
   "source": [
    "print(\"forma original:\", df.shape)"
   ]
  },
  {
   "cell_type": "code",
   "execution_count": null,
   "id": "6209cb05-498c-43eb-bdaf-e29714935a79",
   "metadata": {},
   "outputs": [],
   "source": []
  },
  {
   "cell_type": "code",
   "execution_count": null,
   "id": "9b480e92-bfed-4ee0-86c6-c42b4a95212e",
   "metadata": {},
   "outputs": [],
   "source": []
  },
  {
   "cell_type": "code",
   "execution_count": null,
   "id": "c15d9d4e-5d84-4d6d-8fda-b304c4f99853",
   "metadata": {},
   "outputs": [],
   "source": [
    "from pyspark.ml.clustering import KMeans\n",
    "\n",
    "# Crear una instancia del modelo KMeans con 4 clusters y 10 inicializaciones diferentes\n",
    "kmeans = KMeans(k=4, initMode=\"k-means||\", initSteps=10)\n",
    "# Ajustar el modelo a los datos del DataFrame\n",
    "modelo = kmeans.fit(df)\n",
    "# Obtener las etiquetas de cluster asignadas a cada registro\n",
    "resultados_clustering = modelo.transform(df)\n",
    "# Obtener los centroides de los clusters\n",
    "centroides_clusters = modelo.clusterCenters()\n",
    "\n",
    "# Convertir los centroides de los clusters a un array de NumPy\n",
    "centroides_array = np.array(centroides_clusters)\n",
    "\n",
    "# Obtener las etiquetas de cluster asignadas a cada registro como un array de NumPy\n",
    "etiquetas_array = np.array(resultados_clustering.select(\"prediction\").collect())\n",
    "\n",
    "# Obtener las características del DataFrame como un array de NumPy\n",
    "caracteristicas_array = np.array(resultados_clustering.select(\"features\").collect())"
   ]
  },
  {
   "cell_type": "code",
   "execution_count": null,
   "id": "6ab038b5-9b9f-4be0-9593-0a4b304dceed",
   "metadata": {},
   "outputs": [],
   "source": [
    "\n",
    "# Llamar a la función para graficar los clusters\n",
    "graficar_clusters_spark(caracteristicas_array, etiquetas_array, centroides_array, titulo=\"Gráfico de Clusters KMeans\", etiqueta_x=\"Eje X\", etiqueta_y=\"Eje Y\")"
   ]
  },
  {
   "cell_type": "code",
   "execution_count": null,
   "id": "157cf7e5-1b76-4511-a3d4-2f7f8c3a8455",
   "metadata": {},
   "outputs": [],
   "source": [
    "# Llama a la función evaluar_clustering_pyspark para obtener las métricas\n",
    "metricas_resultantes = evaluar_clustering_pyspark('k', modelo, df, spark, nombre_modelo='KMeans')\n",
    "\n",
    "# Agrega las nuevas métricas al DataFrame existente o crea uno nuevo si no existe\n",
    "if df_metricas is None:\n",
    "    df_metricas = metricas_resultantes\n",
    "else:\n",
    "    df_metricas = df_metricas.union(metricas_resultantes)\n",
    "\n",
    "# Muestra el DataFrame con las métricas\n",
    "df_metricas.show()"
   ]
  }
 ],
 "metadata": {
  "kernelspec": {
   "display_name": "Python 3 (ipykernel)",
   "language": "python",
   "name": "python3"
  },
  "language_info": {
   "codemirror_mode": {
    "name": "ipython",
    "version": 3
   },
   "file_extension": ".py",
   "mimetype": "text/x-python",
   "name": "python",
   "nbconvert_exporter": "python",
   "pygments_lexer": "ipython3",
   "version": "3.11.4"
  }
 },
 "nbformat": 4,
 "nbformat_minor": 5
}
