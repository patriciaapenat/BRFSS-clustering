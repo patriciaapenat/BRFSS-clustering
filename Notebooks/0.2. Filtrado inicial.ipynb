{
 "cells": [
  {
   "cell_type": "markdown",
   "id": "eb2dd9c5-4a01-4324-9652-15e8795414c3",
   "metadata": {},
   "source": [
    "<div style=\"position: absolute; top: 0; left: 0; font-family: 'Garamond'; font-size: 14px;\">\n",
    "    <a href=\"https://github.com/patriciaapenat\" style=\"text-decoration: none; color: inherit;\">Patricia Peña Torres</a>\n",
    "</div>\n",
    "\n",
    "<div align=\"center\" style=\"font-family: 'Garamond'; font-size: 48px;\">\n",
    "    <strong>Proyecto final, BRFSS-clustering</strong>\n",
    "</div>\n",
    "\n",
    "<div align=\"center\" style=\"font-family: 'Garamond'; font-size: 36px;\">\n",
    "    <strong>0.2. Filtrado inicial</strong>\n",
    "</div>"
   ]
  },
  {
   "cell_type": "markdown",
   "id": "9996665d-371b-49eb-aed3-c9bdc041a87a",
   "metadata": {},
   "source": [
    "__________________"
   ]
  },
  {
   "cell_type": "markdown",
   "id": "ae79c08c-36ef-4bf1-9466-3c2fe33aee97",
   "metadata": {},
   "source": [
    "<div style=\"font-family: 'Garamond'; font-size: 14px;\">\n",
    "    <normal>Dado que trabajamos con una base de datos extensa, es crucial examinar detenidamente la documentación. En este caso, me basé en las fuentes oficiales de la BBDD para explorar los datos. Comencé revisando el cuestionario (<a href=\"https://www.cdc.gov/brfss/questionnaires/pdf-ques/2022-BRFSS-Questionnaire-508.pdf\" target=\"_blank\">disponible aquí</a>) pero hay mayor concordancia con el codebook (<a href=\"https://www.cdc.gov/brfss/annual_data/2022/zip/codebook22_llcp-v2-508.zip\" target=\"_blank\">disponible aquí</a>), donde se encuentran los códigos asociados a las preguntas y respuestas. Esta revisión es esencial para comprender las preguntas formuladas y facilita la eliminación de secciones no pertinentes.\n",
    "    En el presente notebook, llevé a cabo una revisión del documento mencionado, junto con el archivo de texto generado que contiene información sobre los valores nulos. La finalidad fue reducir con una limpieza rápida el dataset eliminando encuestas que no se habían completado o columnas que no utilizaremos.</normal>\n",
    "</div>"
   ]
  },
  {
   "cell_type": "markdown",
   "id": "4950083c-0b8c-4835-9413-6fa62a1985ea",
   "metadata": {},
   "source": [
    "<div style=\"font-family: 'Garamond'; font-size: 24px;\">\n",
    "    <strong>Importación de paquetes</strong>\n",
    "</div>"
   ]
  },
  {
   "cell_type": "code",
   "execution_count": 1,
   "id": "5b597558-4d8e-4ba1-9bfe-71a7482505f6",
   "metadata": {},
   "outputs": [],
   "source": [
    "import pandas as pd\n",
    "import findspark\n",
    "findspark.init()\n",
    "import pyspark\n",
    "import random\n",
    "import os.path\n",
    "from pyspark import SparkConf, SparkContext\n",
    "from pyspark.sql import SparkSession\n",
    "from pyspark.sql.functions import col\n",
    "import os\n",
    "from pyspark.sql import DataFrame\n",
    "import pickle"
   ]
  },
  {
   "cell_type": "markdown",
   "id": "339f5ac0-5401-4237-903b-5763e0ee97c6",
   "metadata": {},
   "source": [
    "<div style=\"font-family: 'Garamond'; font-size: 24px;\">\n",
    "    <strong>Configuración de Spark</strong>\n",
    "</div>"
   ]
  },
  {
   "cell_type": "code",
   "execution_count": 2,
   "id": "67c1edd3-f886-4c44-81bf-d6052444175c",
   "metadata": {},
   "outputs": [],
   "source": [
    "# Si hay un SparkContext existente, debemos cerrarlo antes de crear uno nuevo\n",
    "if 'sc' in locals() and sc:\n",
    "    sc.stop()  # Detener el SparkContext anterior si existe\n",
    "\n",
    "# Configuración de Spark\n",
    "conf = (\n",
    "    SparkConf()\n",
    "    .setAppName(\"Proyecto_PatriciaA_Peña\")  # Nombre de la aplicación en Spark\n",
    "    .setMaster(\"local[1]\")  # Modo local con un hilo para ejecución\n",
    "    .set(\"spark.driver.host\", \"127.0.0.1\")  # Dirección del host del driver\n",
    "    .set(\"spark.executor.heartbeatInterval\", \"3600s\")  # Intervalo de latido del executor\n",
    "    .set(\"spark.network.timeout\", \"7200s\")  # Tiempo de espera de la red\n",
    "    .set(\"spark.executor.memory\", \"8g\")  # Memoria asignada para cada executor\n",
    "    .set(\"spark.driver.memory\", \"8g\")  # Memoria asignada para el driver\n",
    ")\n",
    "\n",
    "# Crear un nuevo SparkContext con la configuración especificada\n",
    "sc = SparkContext(conf=conf)\n",
    "\n",
    "# Configuración de SparkSession (interfaz de alto nivel para trabajar con datos estructurados en Spark)\n",
    "spark = (\n",
    "    SparkSession.builder\n",
    "    .appName(\"Proyecto_PatriciaA_Peña\")  # Nombre de la aplicación en Spark\n",
    "    .config(\"spark.sql.repl.eagerEval.enabled\", True)  # Habilitar la evaluación perezosa en Spark SQL REPL\n",
    "    .config(\"spark.sql.repl.eagerEval.maxNumRows\", 1000)  # Número máximo de filas a mostrar en la evaluación perezosa\n",
    "    .getOrCreate()  # Obtener la sesión Spark existente o crear una nueva si no existe\n",
    ") "
   ]
  },
  {
   "cell_type": "markdown",
   "id": "61069114-4bba-425b-b2ff-5e109d12fbe3",
   "metadata": {},
   "source": [
    "<div style=\"font-family: 'Garamond'; font-size: 16px;\">\n",
    "    <strong>Lectura del archivo</strong>\n",
    "</div>"
   ]
  },
  {
   "cell_type": "code",
   "execution_count": 3,
   "id": "ec195683-bd8e-4a86-ad35-2f831c3edd5f",
   "metadata": {},
   "outputs": [],
   "source": [
    "# Ruta del archivo CSV\n",
    "origin_path = r\"C:\\Users\\patri\\OneDrive - UAB\\Documentos\\GitHub\\BRFSS-clustering\\raw_data\\BRFSS_2022.csv\"\n",
    "\n",
    "# Lee el archivo CSV y crea un DataFrame (especificando el separador \"|\")\n",
    "df = spark.read.csv(origin_path, header=True, inferSchema=True)"
   ]
  },
  {
   "cell_type": "code",
   "execution_count": 4,
   "id": "88bfaf5e-5cee-4c83-8b5f-35b94f492a2e",
   "metadata": {},
   "outputs": [],
   "source": [
    "# Abre el archivo en modo escritura y guarda los nombres de las columnas sin saltos de línea\n",
    "with open(r\"C:\\Users\\patri\\Downloads\\columnas_dataframe.txt\", \"w\") as archivo:\n",
    "    archivo.write(\", \".join(map(str, df.columns)))"
   ]
  },
  {
   "cell_type": "code",
   "execution_count": 5,
   "id": "1b197265-07ec-4bbd-bf83-ecf43f1beb48",
   "metadata": {},
   "outputs": [
    {
     "name": "stdout",
     "output_type": "stream",
     "text": [
      "Dimensiones del DataFrame: Filas=445132, Columnas=328\n"
     ]
    }
   ],
   "source": [
    "# Imprimir las dimensiones del DataFrame\n",
    "print(f\"Dimensiones del DataFrame: Filas={df.count()}, Columnas={len(df.columns)}\")"
   ]
  },
  {
   "cell_type": "markdown",
   "id": "532f2589-af1c-4e17-9f1a-ef1ddd9d5512",
   "metadata": {},
   "source": [
    "<div style=\"font-family: 'Garamond'; font-size: 14px;\">\n",
    "    <normal>\n",
    "Trabajamos con un dataset muy extenso así que por ello lo reduciremos en este notebook.</normal>\n",
    "</div>"
   ]
  },
  {
   "cell_type": "markdown",
   "id": "f8e6853d-251d-474f-9c00-0501c22d219b",
   "metadata": {},
   "source": [
    "<div style=\"font-family: 'Garamond'; font-size: 16px;\">\n",
    "    <strong>Funciones</strong>\n",
    "</div>"
   ]
  },
  {
   "cell_type": "markdown",
   "id": "01e9d4c5-fc4a-4ad3-87a5-69cc96b747da",
   "metadata": {},
   "source": [
    "<div style=\"font-family: 'Garamond'; font-size: 14px;\">\n",
    "    <normal>\n",
    "Esta función generará un archivo txt con los count de valores nulos.</normal>\n",
    "</div>"
   ]
  },
  {
   "cell_type": "raw",
   "id": "cffe3bd4-e219-4800-96f2-5967889fe584",
   "metadata": {},
   "source": [
    "def guardar_info_nulos_en_txt(df: DataFrame, archivo_nombre: str):\n",
    "    # Ruta del archivo de texto\n",
    "    file_path = f\"C:\\\\Users\\\\patri\\\\OneDrive - UAB\\\\Documentos\\\\GitHub\\\\BRFSS-clustering\\\\tratamiento\\\\{archivo_nombre}.txt\"\n",
    "\n",
    "    # Verifica si el archivo ya existe\n",
    "    if os.path.exists(file_path):\n",
    "        print(f\"¡Advertencia! El archivo '{file_path}' ya existe. No se ha sobrescrito. Por favor, elija otro nombre.\")\n",
    "        return\n",
    "    \n",
    "    # Abre el archivo en modo de escritura (crea uno nuevo)\n",
    "    with open(file_path, 'w') as file:\n",
    "        # Escribe la cantidad de valores nulos por columna en el archivo\n",
    "        for col in df.columns:\n",
    "            null_count = df.filter(df[col].isNull() | (df[col] == \"\")).count()\n",
    "            file.write(f\"{col}: {null_count} valores nulos\\n\")\n",
    "\n",
    "    print(f\"La información sobre valores nulos del DataFrame '{archivo_nombre}' ha sido guardada en: {file_path}\")"
   ]
  },
  {
   "cell_type": "raw",
   "id": "1f84eea4-9468-4fc8-9ac9-d5a94c7381eb",
   "metadata": {},
   "source": [
    "# Uso de la función\n",
    "guardar_info_nulos_en_txt(df, \"nulos_iniciales_df\")"
   ]
  },
  {
   "cell_type": "markdown",
   "id": "825d5c12-5a45-4e49-9255-6336ddf2cc9d",
   "metadata": {},
   "source": [
    "<div style=\"font-family: 'Garamond'; font-size: 14px;\">\n",
    "    <normal>\n",
    "Tenemos columnas con una gran cantidad de valores nulos pero también al ser encuestas esto es normal puesto que en ocasiones había muchas preguntas que no aplicaban.</normal>\n",
    "</div>"
   ]
  },
  {
   "cell_type": "markdown",
   "id": "05b25dea-f38c-48ff-81c8-db08906b32f3",
   "metadata": {},
   "source": [
    "<div style=\"font-family: 'Garamond'; font-size: 20px;\">\n",
    "    <strong>Limpieza</strong>\n",
    "</div>"
   ]
  },
  {
   "cell_type": "markdown",
   "id": "5a856e6c-9b1a-415b-9655-25afdce72313",
   "metadata": {},
   "source": [
    "<div style=\"font-family: 'Garamond'; font-size: 14px;\">\n",
    "    <normal>\n",
    "Eliminamos las encuestas incompletas, aquellas en las que no se hablaba con una adulto o donde se referirá que no es buen momento para hablar</normal>\n",
    "</div>"
   ]
  },
  {
   "cell_type": "code",
   "execution_count": 6,
   "id": "52f1361c-de13-4fb8-95d2-e6fbf1ecca02",
   "metadata": {},
   "outputs": [],
   "source": [
    "# Filtrar las filas basándose en si era un buen momento para hablar y si se hablaba con un mayor de edad\n",
    "df = df.filter((col('SAFETIME') != 1) | (col('CADULT1') != 2) | (col('DISPCODE') == 1200) | (col('LADULT1') == 2)) "
   ]
  },
  {
   "cell_type": "code",
   "execution_count": 7,
   "id": "900eb340-0c09-4332-a72d-69d518dad9bf",
   "metadata": {},
   "outputs": [
    {
     "name": "stdout",
     "output_type": "stream",
     "text": [
      "Dimensiones del DataFrame: Filas=363130, Columnas=328\n"
     ]
    }
   ],
   "source": [
    "# Imprimir las dimensiones del DataFrame\n",
    "print(f\"Dimensiones del DataFrame: Filas={df.count()}, Columnas={len(df.columns)}\")"
   ]
  },
  {
   "cell_type": "markdown",
   "id": "d8dbc807-2be5-4197-912e-9e3fcafec13d",
   "metadata": {},
   "source": [
    "<div style=\"font-family: 'Garamond'; font-size: 14px;\">\n",
    "    <normal>\n",
    "Y ahora eliminamos varias consultas, entre ellas algunas identificativas o calculador que no utilizaremos</normal>\n",
    "</div>"
   ]
  },
  {
   "cell_type": "code",
   "execution_count": 8,
   "id": "8b2363e3-3dc4-4aeb-9612-ae35f66ad3ab",
   "metadata": {},
   "outputs": [],
   "source": [
    "# Columnas a eliminar\n",
    "columns_to_drop = [\n",
    "    \"IDATE\", \"IMONTH\", \"IDAY\", \"IYEAR\", \"DISPCODE\", \"SEQNO\", \"_PSU\", \"CTELENM1\", \"PVTRESD1\", \"COLGHOUS\", \"STATERE1\", \n",
    "    \"CELPHON1\", \"LADULT1\", \"COLGSEX1\", \"LANDSEX1\", \"RESPSLCT\", \"SAFETIME\", \"CTELNUM1\", \"CELLFON5\", \"CADULT1\", \"CELLSEX1\", \n",
    "    \"PVTRESD3\", \"CCLGHOUS\", \"CSTATE1\", \"LANDLINE\", \"HHADULT\", \"SEXVAR\", \"NUMHHOL4\", \"NUMPHON4\", \"CPDEMO1C\", \"WEIGHT2\", \n",
    "    \"HEIGHT3\",\"CADULT1\",\"COVIDFS1\",\"COVIDSE1\", 'QSTVER', 'QSTLANG', '_METSTAT', '_URBSTAT', 'MSCODE', '_STSTR', \n",
    "    '_STRWT', '_RAWRAKE', '_WT2RAKE', '_IMPRACE', '_CHISPNC', '_CRACE2', '_CPRACE2', 'CAGEG', '_CLLCPWT', '_DUALUSE', '_DUALCOR', \n",
    "    '_LLCPWT2', '_LLCPWT', '_RFHLTH','_PHYS14D', '_MENT14D', '_HLTHPLN', '_HCVU652', '_TOTINDA', '_EXTETH3', '_ALTETH3', '_DENVST3', \n",
    "    '_MICHD', '_LTASTH1','_CASTHM1', '_ASTHMS1', '_DRDXAR2', '_PRACE2', '_MRACE2', '_HISPANC', '_RACE1', '_RACEG22', '_RACEGR4', \n",
    "    '_RACEPR1', '_AGEG5YR', '_AGE65YR', '_AGE_G', 'HTIN4', 'HTM4', 'WTKG3', '_BMI5CAT', '_RFBMI5', '_CHLDCNT', '_EDUCAG', '_INCOMG1',\n",
    "    '_RFMAM22', '_MAM5023', '_HADCOLN', '_CLNSCP1', '_HADSIGM', '_SGMSCP1', '_SGMS101', '_RFBLDS5', '_STOLDN1', '_VIRCOL1',\n",
    "    '_SBONTI1', '_CRCREC2', '_SMOKER3', '_RFSMOK3', '_CURECI2', '_YRSSMOK', '_PACKDAY', '_PACKYRS', '_YRSQUIT', '_SMOKGRP',\n",
    "    '_LCSREC', 'DRNKANY6', 'DROCDY4_', '_RFBING6', '_DRNKWK2', '_RFDRHV8', '_FLSHOT7', '_PNEUMO3', '_AIDTST4','TOLDCFS','HAVECFS',\n",
    "    'WORKCFS','FLSHTMY3','HIVTSTD3',  'RCSGEND1', 'RCSXBRTH', 'RCSRLTN2', 'CASTHDX2', 'CASTHNO2', 'BIRTHSEX', 'COVIDVA1', 'COVACGET', 'COVIDNU1'\n",
    "    'COVIDINT'\n",
    "]\n",
    "\n",
    "# Eliminar\n",
    "df_sin_columnas = df.drop(*columns_to_drop)"
   ]
  },
  {
   "cell_type": "code",
   "execution_count": 9,
   "id": "ae16d426-4533-4dd6-acbc-03e5cbd3ac9b",
   "metadata": {},
   "outputs": [
    {
     "name": "stdout",
     "output_type": "stream",
     "text": [
      "Dimensiones del DataFrame: Filas=363130, Columnas=209\n"
     ]
    }
   ],
   "source": [
    "# Imprimir las dimensiones del DataFrame\n",
    "print(f\"Dimensiones del DataFrame: Filas={df_sin_columnas.count()}, Columnas={len(df_sin_columnas.columns)}\")"
   ]
  },
  {
   "cell_type": "code",
   "execution_count": 11,
   "id": "eb20ab56-d71f-4565-a4b0-dc18b318c3ec",
   "metadata": {},
   "outputs": [
    {
     "data": {
      "text/plain": [
       "['_STATE',\n",
       " 'FMONTH',\n",
       " 'IDATE',\n",
       " 'IMONTH',\n",
       " 'IDAY',\n",
       " 'IYEAR',\n",
       " 'DISPCODE',\n",
       " 'SEQNO',\n",
       " '_PSU',\n",
       " 'CTELENM1',\n",
       " 'PVTRESD1',\n",
       " 'COLGHOUS',\n",
       " 'STATERE1',\n",
       " 'CELPHON1',\n",
       " 'LADULT1',\n",
       " 'COLGSEX1',\n",
       " 'NUMADULT',\n",
       " 'LANDSEX1',\n",
       " 'NUMMEN',\n",
       " 'NUMWOMEN',\n",
       " 'RESPSLCT',\n",
       " 'SAFETIME',\n",
       " 'CTELNUM1',\n",
       " 'CELLFON5',\n",
       " 'CADULT1',\n",
       " 'CELLSEX1',\n",
       " 'PVTRESD3',\n",
       " 'CCLGHOUS',\n",
       " 'CSTATE1',\n",
       " 'LANDLINE',\n",
       " 'HHADULT',\n",
       " 'SEXVAR',\n",
       " 'GENHLTH',\n",
       " 'PHYSHLTH',\n",
       " 'MENTHLTH',\n",
       " 'POORHLTH',\n",
       " 'PRIMINSR',\n",
       " 'PERSDOC3',\n",
       " 'MEDCOST1',\n",
       " 'CHECKUP1',\n",
       " 'EXERANY2',\n",
       " 'SLEPTIM1',\n",
       " 'LASTDEN4',\n",
       " 'RMVTETH4',\n",
       " 'CVDINFR4',\n",
       " 'CVDCRHD4',\n",
       " 'CVDSTRK3',\n",
       " 'ASTHMA3',\n",
       " 'ASTHNOW',\n",
       " 'CHCSCNC1',\n",
       " 'CHCOCNC1',\n",
       " 'CHCCOPD3',\n",
       " 'ADDEPEV3',\n",
       " 'CHCKDNY2',\n",
       " 'HAVARTH4',\n",
       " 'DIABETE4',\n",
       " 'DIABAGE4',\n",
       " 'MARITAL',\n",
       " 'EDUCA',\n",
       " 'RENTHOM1',\n",
       " 'NUMHHOL4',\n",
       " 'NUMPHON4',\n",
       " 'CPDEMO1C',\n",
       " 'VETERAN3',\n",
       " 'EMPLOY1',\n",
       " 'CHILDREN',\n",
       " 'INCOME3',\n",
       " 'PREGNANT',\n",
       " 'WEIGHT2',\n",
       " 'HEIGHT3',\n",
       " 'DEAF',\n",
       " 'BLIND',\n",
       " 'DECIDE',\n",
       " 'DIFFWALK',\n",
       " 'DIFFDRES',\n",
       " 'DIFFALON',\n",
       " 'HADMAM',\n",
       " 'HOWLONG',\n",
       " 'CERVSCRN',\n",
       " 'CRVCLCNC',\n",
       " 'CRVCLPAP',\n",
       " 'CRVCLHPV',\n",
       " 'HADHYST2',\n",
       " 'HADSIGM4',\n",
       " 'COLNSIGM',\n",
       " 'COLNTES1',\n",
       " 'SIGMTES1',\n",
       " 'LASTSIG4',\n",
       " 'COLNCNCR',\n",
       " 'VIRCOLO1',\n",
       " 'VCLNTES2',\n",
       " 'SMALSTOL',\n",
       " 'STOLTEST',\n",
       " 'STOOLDN2',\n",
       " 'BLDSTFIT',\n",
       " 'SDNATES1',\n",
       " 'SMOKE100',\n",
       " 'SMOKDAY2',\n",
       " 'USENOW3',\n",
       " 'ECIGNOW2',\n",
       " 'LCSFIRST',\n",
       " 'LCSLAST',\n",
       " 'LCSNUMCG',\n",
       " 'LCSCTSC1',\n",
       " 'LCSSCNCR',\n",
       " 'LCSCTWHN',\n",
       " 'ALCDAY4',\n",
       " 'AVEDRNK3',\n",
       " 'DRNK3GE5',\n",
       " 'MAXDRNKS',\n",
       " 'FLUSHOT7',\n",
       " 'FLSHTMY3',\n",
       " 'PNEUVAC4',\n",
       " 'TETANUS1',\n",
       " 'HIVTST7',\n",
       " 'HIVTSTD3',\n",
       " 'HIVRISK5',\n",
       " 'COVIDPOS',\n",
       " 'COVIDSMP',\n",
       " 'COVIDPRM',\n",
       " 'PDIABTS1',\n",
       " 'PREDIAB2',\n",
       " 'DIABTYPE',\n",
       " 'INSULIN1',\n",
       " 'CHKHEMO3',\n",
       " 'EYEEXAM1',\n",
       " 'DIABEYE1',\n",
       " 'DIABEDU1',\n",
       " 'FEETSORE',\n",
       " 'TOLDCFS',\n",
       " 'HAVECFS',\n",
       " 'WORKCFS',\n",
       " 'IMFVPLA3',\n",
       " 'HPVADVC4',\n",
       " 'HPVADSHT',\n",
       " 'SHINGLE2',\n",
       " 'COVIDVA1',\n",
       " 'COVACGET',\n",
       " 'COVIDNU1',\n",
       " 'COVIDINT',\n",
       " 'COVIDFS1',\n",
       " 'COVIDSE1',\n",
       " 'COPDCOGH',\n",
       " 'COPDFLEM',\n",
       " 'COPDBRTH',\n",
       " 'COPDBTST',\n",
       " 'COPDSMOK',\n",
       " 'CNCRDIFF',\n",
       " 'CNCRAGE',\n",
       " 'CNCRTYP2',\n",
       " 'CSRVTRT3',\n",
       " 'CSRVDOC1',\n",
       " 'CSRVSUM',\n",
       " 'CSRVRTRN',\n",
       " 'CSRVINST',\n",
       " 'CSRVINSR',\n",
       " 'CSRVDEIN',\n",
       " 'CSRVCLIN',\n",
       " 'CSRVPAIN',\n",
       " 'CSRVCTL2',\n",
       " 'PSATEST1',\n",
       " 'PSATIME1',\n",
       " 'PCPSARS2',\n",
       " 'PSASUGST',\n",
       " 'PCSTALK1',\n",
       " 'CIMEMLOS',\n",
       " 'CDHOUSE',\n",
       " 'CDASSIST',\n",
       " 'CDHELP',\n",
       " 'CDSOCIAL',\n",
       " 'CDDISCUS',\n",
       " 'CAREGIV1',\n",
       " 'CRGVREL4',\n",
       " 'CRGVLNG1',\n",
       " 'CRGVHRS1',\n",
       " 'CRGVPRB3',\n",
       " 'CRGVALZD',\n",
       " 'CRGVPER1',\n",
       " 'CRGVHOU1',\n",
       " 'CRGVEXPT',\n",
       " 'ACEDEPRS',\n",
       " 'ACEDRINK',\n",
       " 'ACEDRUGS',\n",
       " 'ACEPRISN',\n",
       " 'ACEDIVRC',\n",
       " 'ACEPUNCH',\n",
       " 'ACEHURT1',\n",
       " 'ACESWEAR',\n",
       " 'ACETOUCH',\n",
       " 'ACETTHEM',\n",
       " 'ACEHVSEX',\n",
       " 'ACEADSAF',\n",
       " 'ACEADNED',\n",
       " 'LSATISFY',\n",
       " 'EMTSUPRT',\n",
       " 'SDHISOLT',\n",
       " 'SDHEMPLY',\n",
       " 'FOODSTMP',\n",
       " 'SDHFOOD1',\n",
       " 'SDHBILLS',\n",
       " 'SDHUTILS',\n",
       " 'SDHTRNSP',\n",
       " 'SDHSTRE1',\n",
       " 'MARIJAN1',\n",
       " 'MARJSMOK',\n",
       " 'MARJEAT',\n",
       " 'MARJVAPE',\n",
       " 'MARJDAB',\n",
       " 'MARJOTHR',\n",
       " 'USEMRJN4',\n",
       " 'LASTSMK2',\n",
       " 'STOPSMK2',\n",
       " 'MENTCIGS',\n",
       " 'MENTECIG',\n",
       " 'HEATTBCO',\n",
       " 'ASBIALCH',\n",
       " 'ASBIDRNK',\n",
       " 'ASBIBING',\n",
       " 'ASBIADVC',\n",
       " 'ASBIRDUC',\n",
       " 'FIREARM5',\n",
       " 'GUNLOAD',\n",
       " 'LOADULK2',\n",
       " 'RCSGEND1',\n",
       " 'RCSXBRTH',\n",
       " 'RCSRLTN2',\n",
       " 'CASTHDX2',\n",
       " 'CASTHNO2',\n",
       " 'BIRTHSEX',\n",
       " 'SOMALE',\n",
       " 'SOFEMALE',\n",
       " 'TRNSGNDR',\n",
       " 'HADSEX',\n",
       " 'PFPPRVN4',\n",
       " 'TYPCNTR9',\n",
       " 'BRTHCNT4',\n",
       " 'WHEREGET',\n",
       " 'NOBCUSE8',\n",
       " 'BCPREFER',\n",
       " 'RRCLASS3',\n",
       " 'RRCOGNT2',\n",
       " 'RRTREAT',\n",
       " 'RRATWRK2',\n",
       " 'RRHCARE4',\n",
       " 'RRPHYSM2',\n",
       " 'QSTVER',\n",
       " 'QSTLANG',\n",
       " '_METSTAT',\n",
       " '_URBSTAT',\n",
       " 'MSCODE',\n",
       " '_STSTR',\n",
       " '_STRWT',\n",
       " '_RAWRAKE',\n",
       " '_WT2RAKE',\n",
       " '_IMPRACE',\n",
       " '_CHISPNC',\n",
       " '_CRACE2',\n",
       " '_CPRACE2',\n",
       " 'CAGEG',\n",
       " '_CLLCPWT',\n",
       " '_DUALUSE',\n",
       " '_DUALCOR',\n",
       " '_LLCPWT2',\n",
       " '_LLCPWT',\n",
       " '_RFHLTH',\n",
       " '_PHYS14D',\n",
       " '_MENT14D',\n",
       " '_HLTHPLN',\n",
       " '_HCVU652',\n",
       " '_TOTINDA',\n",
       " '_EXTETH3',\n",
       " '_ALTETH3',\n",
       " '_DENVST3',\n",
       " '_MICHD',\n",
       " '_LTASTH1',\n",
       " '_CASTHM1',\n",
       " '_ASTHMS1',\n",
       " '_DRDXAR2',\n",
       " '_PRACE2',\n",
       " '_MRACE2',\n",
       " '_HISPANC',\n",
       " '_RACE1',\n",
       " '_RACEG22',\n",
       " '_RACEGR4',\n",
       " '_RACEPR1',\n",
       " '_SEX',\n",
       " '_AGEG5YR',\n",
       " '_AGE65YR',\n",
       " '_AGE80',\n",
       " '_AGE_G',\n",
       " 'HTIN4',\n",
       " 'HTM4',\n",
       " 'WTKG3',\n",
       " '_BMI5',\n",
       " '_BMI5CAT',\n",
       " '_RFBMI5',\n",
       " '_CHLDCNT',\n",
       " '_EDUCAG',\n",
       " '_INCOMG1',\n",
       " '_RFMAM22',\n",
       " '_MAM5023',\n",
       " '_HADCOLN',\n",
       " '_CLNSCP1',\n",
       " '_HADSIGM',\n",
       " '_SGMSCP1',\n",
       " '_SGMS101',\n",
       " '_RFBLDS5',\n",
       " '_STOLDN1',\n",
       " '_VIRCOL1',\n",
       " '_SBONTI1',\n",
       " '_CRCREC2',\n",
       " '_SMOKER3',\n",
       " '_RFSMOK3',\n",
       " '_CURECI2',\n",
       " '_YRSSMOK',\n",
       " '_PACKDAY',\n",
       " '_PACKYRS',\n",
       " '_YRSQUIT',\n",
       " '_SMOKGRP',\n",
       " '_LCSREC',\n",
       " 'DRNKANY6',\n",
       " 'DROCDY4_',\n",
       " '_RFBING6',\n",
       " '_DRNKWK2',\n",
       " '_RFDRHV8',\n",
       " '_FLSHOT7',\n",
       " '_PNEUMO3',\n",
       " '_AIDTST4']"
      ]
     },
     "execution_count": 11,
     "metadata": {},
     "output_type": "execute_result"
    }
   ],
   "source": [
    "df.columns"
   ]
  },
  {
   "cell_type": "raw",
   "id": "b0323fac-72d9-4dc6-9cca-73248eb306dd",
   "metadata": {},
   "source": [
    "# Uso de la función\n",
    "guardar_info_nulos_en_txt(df_sin_columnas, \"nulos_2_df\")"
   ]
  },
  {
   "cell_type": "markdown",
   "id": "dcfd4fb5-3e24-445a-96df-10d7a8d9eebc",
   "metadata": {},
   "source": [
    "<div style=\"font-family: 'Garamond'; font-size: 16px;\">\n",
    "    <strong>Exportación</strong>\n",
    "</div>"
   ]
  },
  {
   "cell_type": "markdown",
   "id": "f4d3f1c6-3e3c-480f-990f-a55e41d8ff92",
   "metadata": {},
   "source": [
    "<div style=\"font-family: 'Garamond'; font-size: 14px;\">\n",
    "    <normal>\n",
    "Y por último exportamos</normal>\n",
    "</div>"
   ]
  },
  {
   "cell_type": "code",
   "execution_count": 10,
   "id": "54079f0d-6058-4bda-9ca8-18e40a9c1123",
   "metadata": {},
   "outputs": [],
   "source": [
    "# Guardar el DataFrame como CSV\n",
    "df_sin_columnas.write.csv(\"C:\\\\Users\\\\patri\\\\OneDrive - UAB\\\\Documentos\\\\GitHub\\\\BRFSS-clustering\\\\datos\\\\BRFSS_Cleaner_2022.csv\", header=True, mode=\"overwrite\")"
   ]
  }
 ],
 "metadata": {
  "kernelspec": {
   "display_name": "Python 3 (ipykernel)",
   "language": "python",
   "name": "python3"
  },
  "language_info": {
   "codemirror_mode": {
    "name": "ipython",
    "version": 3
   },
   "file_extension": ".py",
   "mimetype": "text/x-python",
   "name": "python",
   "nbconvert_exporter": "python",
   "pygments_lexer": "ipython3",
   "version": "3.11.4"
  }
 },
 "nbformat": 4,
 "nbformat_minor": 5
}
